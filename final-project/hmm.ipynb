{
 "cells": [
  {
   "cell_type": "markdown",
   "metadata": {},
   "source": [
    "# Biological Sequence Analysis using Profile Hidden Markov Models\n",
    "### Machine Learning Final Project\n",
    "##### Mírian Francielle da Silva\n",
    "\n",
    "In this project I used **Hidden Markov Model** (HMM), a probabilistic model to analyze **multiple sequence alignment** (msa) of proteins.\n",
    "\n",
    "In the model, each column of symbols in the alignment is represented by a frequency distribution of the symbols (called a \"state\"), and insertions and deletions are represented by other states. One moves through the model along a particular path from state to state in a Markov chain (i.e., random choice of next move), trying to match a given sequence. The next matching symbol is chosen from each state, recording its probability (frequency) and also the probability of going to that state from a previous one (the transition probability). \n",
    "\n",
    "State and transition probabilities are multiplied to obtain a probability of the given sequence. The hidden nature of the HMM is due to the lack of information about the value of a specific state, which is instead represented by a probability distribution over all possible values.\n",
    "\n",
    "When designing a HMM, the most important criteria are the number of states and the transitions between them.\n",
    "\n",
    "### HMM Problems:\n",
    "To analyse and describe data with HMMs, three major problems must be solved. \n",
    "- _What is the probability of an observed sequence according to a given model?_ \n",
    "This can be calculated using the forward algorithm and the result can be used, among others, to decide which model in a collection of HMMs best describes an observation.\n",
    "- _The next problem is to find the most probable state sequence to have emitted an observation._\n",
    "This state sequence can be used to determine the process which has caused the observation and is calculated with the Viterbi algorithm. \n",
    "- _The third problem is to optimize the model, to maximize the probabilities of given observations._\n",
    "The best-known method for HMM training is the Baum-Welch, aka, Expectation Maximization training algorithm.\n"
   ]
  },
  {
   "cell_type": "code",
   "execution_count": 2,
   "metadata": {},
   "outputs": [
    {
     "name": "stdout",
     "output_type": "stream",
     "text": [
      "Requirement already satisfied: biopython in c:\\programdata\\anaconda3\\lib\\site-packages (1.73)\n",
      "Requirement already satisfied: numpy in c:\\programdata\\anaconda3\\lib\\site-packages (from biopython) (1.16.4)\n",
      "Note: you may need to restart the kernel to use updated packages.\n"
     ]
    }
   ],
   "source": [
    "#Python tools for computational molecular biology\n",
    "%pip install biopython"
   ]
  },
  {
   "cell_type": "code",
   "execution_count": 3,
   "metadata": {},
   "outputs": [
    {
     "name": "stdout",
     "output_type": "stream",
     "text": [
      "Requirement already satisfied: hmmlearn in c:\\programdata\\anaconda3\\lib\\site-packages (0.2.1)\n",
      "Requirement already satisfied: numpy in c:\\programdata\\anaconda3\\lib\\site-packages (from hmmlearn) (1.16.4)\n",
      "Requirement already satisfied: scikit-learn>=0.16 in c:\\programdata\\anaconda3\\lib\\site-packages (from hmmlearn) (0.20.3)\n",
      "Requirement already satisfied: scipy>=0.13.3 in c:\\programdata\\anaconda3\\lib\\site-packages (from scikit-learn>=0.16->hmmlearn) (1.2.1)\n",
      "Note: you may need to restart the kernel to use updated packages.\n"
     ]
    }
   ],
   "source": [
    "#Hidden Markov Models learn library\n",
    "%pip install hmmlearn"
   ]
  },
  {
   "cell_type": "code",
   "execution_count": 4,
   "metadata": {},
   "outputs": [
    {
     "name": "stdout",
     "output_type": "stream",
     "text": [
      "Requirement already satisfied: pomegranate in c:\\programdata\\anaconda3\\lib\\site-packages (0.11.0)\n",
      "Requirement already satisfied: pyyaml in c:\\programdata\\anaconda3\\lib\\site-packages (from pomegranate) (5.1)\n",
      "Requirement already satisfied: numpy>=1.8.0 in c:\\programdata\\anaconda3\\lib\\site-packages (from pomegranate) (1.16.4)\n",
      "Requirement already satisfied: scipy>=0.17.0 in c:\\programdata\\anaconda3\\lib\\site-packages (from pomegranate) (1.2.1)\n",
      "Requirement already satisfied: joblib>=0.9.0b4 in c:\\programdata\\anaconda3\\lib\\site-packages (from pomegranate) (0.13.2)\n",
      "Requirement already satisfied: networkx>=2.0 in c:\\programdata\\anaconda3\\lib\\site-packages (from pomegranate) (2.2)\n",
      "Requirement already satisfied: decorator>=4.3.0 in c:\\programdata\\anaconda3\\lib\\site-packages (from networkx>=2.0->pomegranate) (4.4.0)\n",
      "Note: you may need to restart the kernel to use updated packages.\n"
     ]
    }
   ],
   "source": [
    "#Another Hidden Markov Model library\n",
    "%pip install pomegranate"
   ]
  },
  {
   "cell_type": "code",
   "execution_count": 5,
   "metadata": {},
   "outputs": [],
   "source": [
    "#For better visualizations\n",
    "#%pip install pygraphviz"
   ]
  },
  {
   "cell_type": "code",
   "execution_count": 4,
   "metadata": {},
   "outputs": [],
   "source": [
    "# Important modules \n",
    "from __future__ import print_function, division\n",
    "from future.utils import iteritems\n",
    "from builtins import range, input\n",
    "\n",
    "import argparse, sys\n",
    "\n",
    "import matplotlib\n",
    "import matplotlib as mpl\n",
    "import matplotlib.style\n",
    "import matplotlib.pyplot as plt\n",
    "import seaborn as sns\n",
    "\n",
    "import pandas as pd \n",
    "import numpy as np\n",
    "import Bio\n",
    "import timeit\n",
    "\n",
    "from Bio.Seq import Seq\n",
    "from Bio import SeqIO\n",
    "from sklearn.utils import shuffle\n",
    "from scipy.io import loadmat\n",
    "from scipy.stats import norm\n",
    "from pomegranate import *\n",
    "\n",
    "from hmmlearn import hmm\n",
    "from multiprocessing import Pool, TimeoutError"
   ]
  },
  {
   "cell_type": "code",
   "execution_count": 5,
   "metadata": {},
   "outputs": [
    {
     "name": "stdout",
     "output_type": "stream",
     "text": [
      "Biopython v1.73\n"
     ]
    }
   ],
   "source": [
    "print(\"Biopython v\" + Bio.__version__)"
   ]
  },
  {
   "cell_type": "markdown",
   "metadata": {},
   "source": [
    "#### About dataset: \n",
    "\n",
    "The [Pfam](http://pfam.xfam.org/) database is a large collection of protein families, each represented by multiple sequence alignments and hidden Markov models (HMMs). \n",
    "\n",
    "[Pfam References](http://pfam.xfam.org/help?tab=helpReferencesBlock):\n",
    "[The Pfam protein families database in 2019](https://academic.oup.com/nar/article/47/D1/D427/5144153): S. El-Gebali, J. Mistry, A. Bateman, S.R. Eddy, A. Luciani, S.C. Potter, M. Qureshi, L.J. Richardson, G.A. Salazar, A. Smart, E.L.L. Sonnhammer, L. Hirsh, L. Paladin, D. Piovesan, S.C.E. Tosatto, R.D. Finn\n",
    "Nucleic Acids Research (2019)  doi: 10.1093/nar/gky995\n",
    "\n",
    "__Dataset used: [Family: Miga (PF10265)](http://pfam.xfam.org/family/PF10265#alignBlock)__\n",
    "Mitoguardin (Miga) was first identified in flies as a mitochondrial outer-membrane protein that promotes mitochondrial fusion. \n",
    "\n",
    "#### About file format: \n",
    "In bioinformatics and biochemistry, the FASTA format is a text-based format for representing either nucleotide sequences or amino acid (protein) sequences, in which nucleotides or amino acids are represented using single-letter codes. The format also allows for sequence names and comments to precede the sequences."
   ]
  },
  {
   "cell_type": "code",
   "execution_count": 6,
   "metadata": {},
   "outputs": [],
   "source": [
    "input_file = \"PF10265_seed.fasta\"\n",
    "input_file_high_lenght = \"miga.fasta\"\n",
    "input_file_small_lenght = \"zincFinger.fasta\""
   ]
  },
  {
   "cell_type": "markdown",
   "metadata": {},
   "source": [
    "#### Parsing sequence file formats:"
   ]
  },
  {
   "cell_type": "code",
   "execution_count": 7,
   "metadata": {},
   "outputs": [
    {
     "name": "stdout",
     "output_type": "stream",
     "text": [
      "ID: ACE2_YEAST/603-627 \t Lenght: 31\n",
      "ID: ACE2_YEAST/633-657 \t Lenght: 31\n",
      "ID: ADR1_YEAST/104-126 \t Lenght: 31\n",
      "ID: ADR1_YEAST/132-155 \t Lenght: 31\n",
      "ID: B5RIE4_DROME/222-244 \t Lenght: 31\n",
      "ID: B5RIE4_DROME/306-328 \t Lenght: 31\n",
      "ID: BNC1_HUMAN/720-743 \t Lenght: 31\n",
      "ID: BNC1_HUMAN/928-951 \t Lenght: 31\n",
      "ID: BRLA_EMENI/350-375 \t Lenght: 31\n",
      "[Seq('FECLY-PNCN---KVFKRRYNIRSHIQT--H', SingleLetterAlphabet()), Seq('YSCDF-PGCT---KAFVRNHDLIRHKIS--H', SingleLetterAlphabet()), Seq('FVCE---VCT---RAFARQEHLKRHYRS--H', SingleLetterAlphabet()), Seq('YPCG---LCN---RCFTRRDLLIRHAQK-IH', SingleLetterAlphabet()), Seq('FTCK---ICS---RSFGYKHVLQNHERT--H', SingleLetterAlphabet()), Seq('YTCE---ICD---GKFSDSNQLKSHMLV--H', SingleLetterAlphabet()), Seq('FQCD---ICK---KTFKNACSVKIHHKN-MH', SingleLetterAlphabet()), Seq('ITCH---LCQ---KTYSNKGTFRAHYKT-VH', SingleLetterAlphabet()), Seq('HVCWV-PGCH---RAFSRSDNLNAHYTK-TH', SingleLetterAlphabet())]\n"
     ]
    }
   ],
   "source": [
    "def fasta_reader(input_file):\n",
    "    from Bio.SeqIO.FastaIO import FastaIterator\n",
    "    with open(input_file_small_lenght) as handle:\n",
    "        for record in FastaIterator(handle):\n",
    "            yield record\n",
    "msa = []\n",
    "for entry in fasta_reader(input_file_small_lenght):\n",
    "    msa.append(entry.seq)\n",
    "    #msa_train.append(entry.seq)\n",
    "    print (\"ID:\", str(entry.id), \"\\t Lenght:\", str(\"{:,d}\".format(len(entry))) ) #This is header of fasta entry\n",
    "    #print (repr(entry.seq), \"\\n\") #This is sequence of specific fasta entry\n",
    "    #print (str(entry.seq), \"\\n\") #This is sequence of specific fasta entry\n",
    "    \n",
    "print(msa)"
   ]
  },
  {
   "cell_type": "raw",
   "metadata": {},
   "source": [
    "A profile HMM is used to align a sequence to a reference 'profile', where the reference profile can either be a single sequence, or an alignment of many sequences (genomes). In essence, this profile has a 'match' state for every position in the reference profile, and 'insert' state, and a 'delete' state. The insert state allows the external sequence to have an insertion into the sequence without throwing off the entire alignment, such as the following:\n",
    "\n",
    "ACCG : Sequence\n",
    "|| |\n",
    "AC-G : Reference\n",
    "\n",
    "or a deletion, which is the opposite:\n",
    "A-G : Sequence\n",
    "| |\n",
    "ACG : Reference"
   ]
  },
  {
   "cell_type": "code",
   "execution_count": 8,
   "metadata": {},
   "outputs": [],
   "source": [
    "import warnings\n",
    "warnings.filterwarnings('ignore')\n",
    "\n",
    "hmm = HiddenMarkovModel()\n",
    "model = HiddenMarkovModel( \"Global Alignment\")\n",
    "\n",
    "# Distribution for insertions\n",
    "insertions_distributions = DiscreteDistribution( { 'A': 0.25, 'C': 0.25, 'G': 0.25, 'T': 0.25 } )\n",
    "\n",
    "# Create the insert states\n",
    "i0 = State( insertions_distributions, name=\"I0\" )\n",
    "i1 = State( insertions_distributions, name=\"I1\" )\n",
    "i2 = State( insertions_distributions, name=\"I2\" )\n",
    "i3 = State( insertions_distributions, name=\"I3\" )\n",
    "\n",
    "# Create the match states\n",
    "m1 = State( DiscreteDistribution({ \"A\": 0.95, 'C': 0.01, 'G': 0.01, 'T': 0.02 }) , name=\"M1\" )\n",
    "m2 = State( DiscreteDistribution({ \"A\": 0.003, 'C': 0.99, 'G': 0.003, 'T': 0.004 }) , name=\"M2\" )\n",
    "m3 = State( DiscreteDistribution({ \"A\": 0.01, 'C': 0.01, 'G': 0.01, 'T': 0.97 }) , name=\"M3\" )\n",
    "\n",
    "# Create the delete states\n",
    "d1 = State( None, name=\"D1\" )\n",
    "d2 = State( None, name=\"D2\" )\n",
    "d3 = State( None, name=\"D3\" )\n",
    "\n",
    "# Add all the states to the model\n",
    "model.add_states( [i0, i1, i2, i3, m1, m2, m3, d1, d2, d3 ] )\n",
    "\n",
    "# Create transitions from match states\n",
    "model.add_transition( model.start, m1, 0.9 )\n",
    "model.add_transition( model.start, i0, 0.1 )\n",
    "model.add_transition( m1, m2, 0.9 )\n",
    "model.add_transition( m1, i1, 0.05 )\n",
    "model.add_transition( m1, d2, 0.05 )\n",
    "model.add_transition( m2, m3, 0.9 )\n",
    "model.add_transition( m2, i2, 0.05 )\n",
    "model.add_transition( m2, d3, 0.05 )\n",
    "model.add_transition( m3, model.end, 0.9 )\n",
    "model.add_transition( m3, i3, 0.1 )\n",
    "\n",
    "# Create transitions from insert states\n",
    "model.add_transition( i0, i0, 0.70 )\n",
    "model.add_transition( i0, d1, 0.15 )\n",
    "model.add_transition( i0, m1, 0.15 )\n",
    "\n",
    "model.add_transition( i1, i1, 0.70 )\n",
    "model.add_transition( i1, d2, 0.15 )\n",
    "model.add_transition( i1, m2, 0.15 )\n",
    "\n",
    "model.add_transition( i2, i2, 0.70 )\n",
    "model.add_transition( i2, d3, 0.15 )\n",
    "model.add_transition( i2, m3, 0.15 )\n",
    "\n",
    "model.add_transition( i3, i3, 0.85 )\n",
    "model.add_transition( i3, model.end, 0.15 )\n",
    "\n",
    "# Create transitions from delete states\n",
    "model.add_transition( d1, d2, 0.15 )\n",
    "model.add_transition( d1, i1, 0.15 )\n",
    "model.add_transition( d1, m2, 0.70 ) \n",
    "\n",
    "model.add_transition( d2, d3, 0.15 )\n",
    "model.add_transition( d2, i2, 0.15 )\n",
    "model.add_transition( d2, m3, 0.70 )\n",
    "\n",
    "model.add_transition( d3, i3, 0.30 )\n",
    "model.add_transition( d3, model.end, 0.70 )"
   ]
  },
  {
   "cell_type": "markdown",
   "metadata": {},
   "source": [
    "A Hidden Markov Model (HMM) is a directed graphical model where nodes are hidden states which contain an observed emission distribution and edges contain the probability of transitioning from one hidden state to another. HMMs allow you to tag each observation in a variable length sequence with the most likely hidden state according to the model."
   ]
  },
  {
   "cell_type": "code",
   "execution_count": 9,
   "metadata": {},
   "outputs": [
    {
     "name": "stdout",
     "output_type": "stream",
     "text": [
      "Sequence: 'ACT'  -- Log Probability: -0.5132449003570658 -- Path: M1 M2 M3\n",
      "Sequence: 'GGC'  -- Log Probability: -11.048101241343396 -- Path: I0 I0 D1 M2 D3\n",
      "Sequence: 'GAT'  -- Log Probability: -9.125519674022627 -- Path: I0 M1 D2 M3\n",
      "Sequence: 'ACC'  -- Log Probability: -5.0879558788604475 -- Path: M1 M2 M3\n"
     ]
    },
    {
     "data": {
      "image/png": "[encoded data removed]",
      "text/plain": [
       "<Figure size 432x432 with 1 Axes>"
      ]
     },
     "metadata": {},
     "output_type": "display_data"
    }
   ],
   "source": [
    "# Call bake to finalize the structure of the model.\n",
    "model.bake()\n",
    "\n",
    "plt.figure(figsize=(6,6))\n",
    "model.plot()\n",
    "\n",
    "for sequence in map( list, ('ACT', 'GGC', 'GAT', 'ACC') ):\n",
    "    logp, path = model.viterbi( sequence )\n",
    "    print (\"Sequence: '{}'  -- Log Probability: {} -- Path: {}\".format(''.join( sequence ), logp, \" \".join( state.name for idx, state in path[1:-1] ) ))"
   ]
  },
  {
   "cell_type": "code",
   "execution_count": 10,
   "metadata": {},
   "outputs": [],
   "source": [
    "#for sequence in map( list, (msa[0],msa[1]) ):\n",
    "#    logp, path = model.viterbi( sequence )\n",
    "#    print (\"Sequence: '{}'  -- Log Probability: {} -- Path: {}\".format(\n",
    "#        ''.join( sequence ), logp, \" \".join( state.name for idx, state in path[1:-1] ) ))"
   ]
  },
  {
   "cell_type": "code",
   "execution_count": 11,
   "metadata": {},
   "outputs": [
    {
     "name": "stdout",
     "output_type": "stream",
     "text": [
      "Sequence: 'A'  -- Log Probability: -5.406181012423981 -- Path: M1 D2 D3\n",
      "Sequence: 'GA'  -- Log Probability: -10.88681993576597 -- Path: I0 M1 D2 D3\n",
      "Sequence: 'AC'  -- Log Probability: -3.6244718790494277 -- Path: M1 M2 D3\n",
      "Sequence: 'AT'  -- Log Probability: -3.644880750680635 -- Path: M1 D2 M3\n",
      "Sequence: 'ATCC'  -- Log Probability: -10.674332964640293 -- Path: M1 D2 M3 I3 I3\n",
      "Sequence: 'ACGTG'  -- Log Probability: -10.393824835172445 -- Path: M1 M2 I2 I2 I2 D3\n",
      "Sequence: 'ATTT'  -- Log Probability: -8.67126440174503 -- Path: M1 I1 I1 D2 M3\n",
      "Sequence: 'TACCCTC'  -- Log Probability: -16.903451796110275 -- Path: I0 I0 I0 I0 D1 M2 M3 I3\n",
      "Sequence: 'TGTCAACACT'  -- Log Probability: -16.451699654050792 -- Path: I0 I0 I0 I0 I0 I0 I0 M1 M2 M3\n"
     ]
    }
   ],
   "source": [
    "for sequence in map( list, ('A', 'GA', 'AC', 'AT', 'ATCC', 'ACGTG', 'ATTT', 'TACCCTC', 'TGTCAACACT') ):\n",
    "    logp, path = model.viterbi( sequence )\n",
    "    print (\"Sequence: '{}'  -- Log Probability: {} -- Path: {}\".format(\n",
    "        ''.join( sequence ), logp, \" \".join( state.name for idx, state in path[1:-1] ) ))"
   ]
  },
  {
   "cell_type": "code",
   "execution_count": 12,
   "metadata": {},
   "outputs": [
    {
     "name": "stdout",
     "output_type": "stream",
     "text": [
      "Sequence: A, Log Probability: -5.406181012423981\n",
      "ACT\n",
      "A--\n",
      "Sequence: GA, Log Probability: -10.88681993576597\n",
      "-ACT\n",
      "GA--\n",
      "Sequence: AC, Log Probability: -3.6244718790494277\n",
      "ACT\n",
      "AC-\n",
      "Sequence: AT, Log Probability: -3.644880750680635\n",
      "ACT\n",
      "A-T\n",
      "Sequence: ATCC, Log Probability: -10.674332964640293\n",
      "ACT--\n",
      "A-TCC\n",
      "Sequence: ACGTG, Log Probability: -10.393824835172445\n",
      "AC---T\n",
      "ACGTG-\n",
      "Sequence: ATTT, Log Probability: -8.67126440174503\n",
      "A--CT\n",
      "ATT-T\n",
      "Sequence: TACCCTC, Log Probability: -16.903451796110275\n",
      "----ACT-\n",
      "TACC-CTC\n",
      "Sequence: TGTCAACACT, Log Probability: -16.451699654050792\n",
      "-------ACT\n",
      "TGTCAACACT\n"
     ]
    }
   ],
   "source": [
    "def path_to_alignment( x, y, path ):\n",
    "    \"\"\"\n",
    "    This function will take in two sequences, and the ML path which is their alignment,\n",
    "    and insert dashes appropriately to make them appear aligned. This consists only of\n",
    "    adding a dash to the model sequence for every insert in the path appropriately, and\n",
    "    a dash in the observed sequence for every delete in the path appropriately.\n",
    "    \"\"\"\n",
    "    \n",
    "    for i, (index, state) in enumerate( path[1:-1] ):\n",
    "        name = state.name\n",
    "        \n",
    "        if name.startswith( 'D' ):\n",
    "            y = y[:i] + '-' + y[i:]\n",
    "        elif name.startswith( 'I' ):\n",
    "            x = x[:i] + '-' + x[i:]\n",
    "\n",
    "    return x, y\n",
    "\n",
    "for sequence in map( list, ('A', 'GA', 'AC', 'AT', 'ATCC', 'ACGTG', 'ATTT', 'TACCCTC', 'TGTCAACACT') ):\n",
    "    logp, path = model.viterbi( sequence )\n",
    "    x, y = path_to_alignment( 'ACT', ''.join(sequence), path )\n",
    "    \n",
    "    print (\"Sequence: {}, Log Probability: {}\".format( ''.join(sequence), logp ))\n",
    "    print (\"{}\\n{}\".format( x, y ))"
   ]
  },
  {
   "cell_type": "code",
   "execution_count": null,
   "metadata": {},
   "outputs": [],
   "source": []
  },
  {
   "cell_type": "code",
   "execution_count": null,
   "metadata": {},
   "outputs": [],
   "source": []
  }
 ],
 "metadata": {
  "kernelspec": {
   "display_name": "Python 3",
   "language": "python",
   "name": "python3"
  },
  "language_info": {
   "codemirror_mode": {
    "name": "ipython",
    "version": 3
   },
   "file_extension": ".py",
   "mimetype": "text/x-python",
   "name": "python",
   "nbconvert_exporter": "python",
   "pygments_lexer": "ipython3",
   "version": "3.7.3"
  }
 },
 "nbformat": 4,
 "nbformat_minor": 2
}
