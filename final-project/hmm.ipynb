{
  "nbformat": 4,
  "nbformat_minor": 0,
  "metadata": {
    "colab": {
      "name": "hmm.ipynb",
      "version": "0.3.2",
      "provenance": [],
      "include_colab_link": true
    },
    "language_info": {
      "codemirror_mode": {
        "name": "ipython",
        "version": 3
      },
      "file_extension": ".py",
      "mimetype": "text/x-python",
      "name": "python",
      "nbconvert_exporter": "python",
      "pygments_lexer": "ipython3",
      "version": "3.7.3"
    },
    "kernelspec": {
      "name": "python3",
      "display_name": "Python 3"
    },
    "accelerator": "GPU"
  },
  "cells": [
    {
      "cell_type": "markdown",
      "metadata": {
        "id": "view-in-github",
        "colab_type": "text"
      },
      "source": [
        "<a href=\"https://colab.research.google.com/github/mirianfsilva/machine-learning/blob/master/final-project/hmm.ipynb\" target=\"_parent\"><img src=\"https://colab.research.google.com/assets/colab-badge.svg\" alt=\"Open In Colab\"/></a>"
      ]
    },
    {
      "cell_type": "markdown",
      "metadata": {
        "id": "zhbCrBHxWL2B",
        "colab_type": "text"
      },
      "source": [
        "# Biological Sequence Analysis using Profile Hidden Markov Models\n",
        "### Machine Learning Final Project\n",
        "##### Mírian Francielle da Silva\n",
        "\n",
        "In this project I used **Hidden Markov Model** (HMM), a probabilistic model to analyze **multiple sequence alignment** (msa) of proteins.\n",
        "\n",
        "In the model, each column of symbols in the alignment is represented by a frequency distribution of the symbols (called a \"state\"), and insertions and deletions are represented by other states. One moves through the model along a particular path from state to state in a Markov chain (i.e., random choice of next move), trying to match a given sequence. The next matching symbol is chosen from each state, recording its probability (frequency) and also the probability of going to that state from a previous one (the transition probability). \n",
        "\n",
        "State and transition probabilities are multiplied to obtain a probability of the given sequence. The hidden nature of the HMM is due to the lack of information about the value of a specific state, which is instead represented by a probability distribution over all possible values.\n",
        "\n",
        "When designing a HMM, the most important criteria are the number of states and the transitions between them.\n",
        "\n",
        "### HMM Problems:\n",
        "To analyse and describe data with HMMs, three major problems must be solved. \n",
        "- _What is the probability of an observed sequence according to a given model?_ \n",
        "This can be calculated using the forward algorithm and the result can be used, among others, to decide which model in a collection of HMMs best describes an observation.\n",
        "- _The next problem is to find the most probable state sequence to have emitted an observation._\n",
        "This state sequence can be used to determine the process which has caused the observation and is calculated with the Viterbi algorithm. \n",
        "- _The third problem is to optimize the model, to maximize the probabilities of given observations._\n",
        "The best-known method for HMM training is the Baum-Welch, aka, Expectation Maximization training algorithm.\n"
      ]
    },
    {
      "cell_type": "code",
      "metadata": {
        "id": "G1_aG3eXWL2J",
        "colab_type": "code",
        "outputId": "6beddbf9-c863-4ace-ff19-eaed4b3944e8",
        "colab": {
          "base_uri": "https://localhost:8080/",
          "height": 247
        }
      },
      "source": [
        "#Hidden Markov Models learn library\n",
        "%pip install hmmlearn"
      ],
      "execution_count": 1,
      "outputs": [
        {
          "output_type": "stream",
          "text": [
            "Collecting hmmlearn\n",
            "\u001b[?25l  Downloading https://files.pythonhosted.org/packages/d7/c5/91b43156b193d180ed94069269bcf88d3c7c6e54514a8482050fa9995e10/hmmlearn-0.2.2.tar.gz (146kB)\n",
            "\u001b[K     |████████████████████████████████| 153kB 43.7MB/s \n",
            "\u001b[?25hRequirement already satisfied: numpy>=1.10 in /usr/local/lib/python3.6/dist-packages (from hmmlearn) (1.16.4)\n",
            "Requirement already satisfied: scikit-learn>=0.16 in /usr/local/lib/python3.6/dist-packages (from hmmlearn) (0.21.2)\n",
            "Requirement already satisfied: joblib>=0.11 in /usr/local/lib/python3.6/dist-packages (from scikit-learn>=0.16->hmmlearn) (0.13.2)\n",
            "Requirement already satisfied: scipy>=0.17.0 in /usr/local/lib/python3.6/dist-packages (from scikit-learn>=0.16->hmmlearn) (1.3.0)\n",
            "Building wheels for collected packages: hmmlearn\n",
            "  Building wheel for hmmlearn (setup.py) ... \u001b[?25l\u001b[?25hdone\n",
            "  Stored in directory: /root/.cache/pip/wheels/2c/b6/0e/63a865a30e21e01d04f417d8995fbfb793d6bd464707efc546\n",
            "Successfully built hmmlearn\n",
            "Installing collected packages: hmmlearn\n",
            "Successfully installed hmmlearn-0.2.2\n"
          ],
          "name": "stdout"
        }
      ]
    },
    {
      "cell_type": "code",
      "metadata": {
        "id": "lTR5yLliWL2D",
        "colab_type": "code",
        "outputId": "a26171cc-0739-4f62-f0cf-7973d08c1e0d",
        "colab": {
          "base_uri": "https://localhost:8080/",
          "height": 123
        }
      },
      "source": [
        "#Python tools for computational molecular biology\n",
        "%pip install biopython"
      ],
      "execution_count": 2,
      "outputs": [
        {
          "output_type": "stream",
          "text": [
            "Collecting biopython\n",
            "\u001b[?25l  Downloading https://files.pythonhosted.org/packages/28/15/8ac646ff24cfa2588b4d5e5ea51e8d13f3d35806bd9498fbf40ef79026fd/biopython-1.73-cp36-cp36m-manylinux1_x86_64.whl (2.2MB)\n",
            "\u001b[K     |████████████████████████████████| 2.2MB 47.7MB/s \n",
            "\u001b[?25hRequirement already satisfied: numpy in /usr/local/lib/python3.6/dist-packages (from biopython) (1.16.4)\n",
            "Installing collected packages: biopython\n",
            "Successfully installed biopython-1.73\n"
          ],
          "name": "stdout"
        }
      ]
    },
    {
      "cell_type": "code",
      "metadata": {
        "id": "3XEw6dLoWL2N",
        "colab_type": "code",
        "outputId": "fed78c67-47a5-43b8-fd0c-dea9d8765ecf",
        "colab": {
          "base_uri": "https://localhost:8080/",
          "height": 232
        }
      },
      "source": [
        "#Another Hidden Markov Model library\n",
        "%pip install pomegranate"
      ],
      "execution_count": 3,
      "outputs": [
        {
          "output_type": "stream",
          "text": [
            "Collecting pomegranate\n",
            "\u001b[?25l  Downloading https://files.pythonhosted.org/packages/f4/71/ff627a304adeb205a6b14a72440fc4d70b40a66b063d0b5bd1de720c1f95/pomegranate-0.11.0-cp36-cp36m-manylinux1_x86_64.whl (5.2MB)\n",
            "\u001b[K     |████████████████████████████████| 5.2MB 42.7MB/s \n",
            "\u001b[?25hRequirement already satisfied: joblib>=0.9.0b4 in /usr/local/lib/python3.6/dist-packages (from pomegranate) (0.13.2)\n",
            "Requirement already satisfied: networkx>=2.0 in /usr/local/lib/python3.6/dist-packages (from pomegranate) (2.3)\n",
            "Requirement already satisfied: numpy>=1.8.0 in /usr/local/lib/python3.6/dist-packages (from pomegranate) (1.16.4)\n",
            "Requirement already satisfied: pyyaml in /usr/local/lib/python3.6/dist-packages (from pomegranate) (3.13)\n",
            "Requirement already satisfied: scipy>=0.17.0 in /usr/local/lib/python3.6/dist-packages (from pomegranate) (1.3.0)\n",
            "Requirement already satisfied: decorator>=4.3.0 in /usr/local/lib/python3.6/dist-packages (from networkx>=2.0->pomegranate) (4.4.0)\n",
            "Installing collected packages: pomegranate\n",
            "Successfully installed pomegranate-0.11.0\n"
          ],
          "name": "stdout"
        }
      ]
    },
    {
      "cell_type": "code",
      "metadata": {
        "id": "w1ArmepgWL2R",
        "colab_type": "code",
        "colab": {}
      },
      "source": [
        "#For better visualizations\n",
        "#%pip install pygraphviz"
      ],
      "execution_count": 0,
      "outputs": []
    },
    {
      "cell_type": "code",
      "metadata": {
        "id": "G4YzeXnfWL2T",
        "colab_type": "code",
        "colab": {}
      },
      "source": [
        "# Important modules \n",
        "from __future__ import print_function, division\n",
        "from future.utils import iteritems\n",
        "from builtins import range, input\n",
        "\n",
        "import argparse, sys\n",
        "\n",
        "import matplotlib\n",
        "import matplotlib as mpl\n",
        "import matplotlib.style\n",
        "import matplotlib.pyplot as plt\n",
        "import seaborn as sns\n",
        "\n",
        "import pandas as pd \n",
        "import numpy as np\n",
        "import Bio\n",
        "import timeit\n",
        "\n",
        "from Bio.Seq import Seq\n",
        "from Bio import SeqIO\n",
        "from sklearn.utils import shuffle\n",
        "from scipy.io import loadmat\n",
        "from scipy.stats import norm\n",
        "from pomegranate import *\n",
        "\n",
        "from hmmlearn import hmm\n",
        "from multiprocessing import Pool, TimeoutError"
      ],
      "execution_count": 0,
      "outputs": []
    },
    {
      "cell_type": "code",
      "metadata": {
        "id": "8d_ckmReWL2W",
        "colab_type": "code",
        "outputId": "6f9ab15b-1222-44ad-b38b-247e860e9afe",
        "colab": {
          "base_uri": "https://localhost:8080/",
          "height": 34
        }
      },
      "source": [
        "print(\"Biopython v\" + Bio.__version__)"
      ],
      "execution_count": 5,
      "outputs": [
        {
          "output_type": "stream",
          "text": [
            "Biopython v1.73\n"
          ],
          "name": "stdout"
        }
      ]
    },
    {
      "cell_type": "markdown",
      "metadata": {
        "id": "-g-ocZHmWL2a",
        "colab_type": "text"
      },
      "source": [
        "#### About dataset: \n",
        "\n",
        "The [Pfam](http://pfam.xfam.org/) database is a large collection of protein families, each represented by multiple sequence alignments and hidden Markov models (HMMs). \n",
        "\n",
        "[Pfam References](http://pfam.xfam.org/help?tab=helpReferencesBlock):\n",
        "[The Pfam protein families database in 2019](https://academic.oup.com/nar/article/47/D1/D427/5144153): S. El-Gebali, J. Mistry, A. Bateman, S.R. Eddy, A. Luciani, S.C. Potter, M. Qureshi, L.J. Richardson, G.A. Salazar, A. Smart, E.L.L. Sonnhammer, L. Hirsh, L. Paladin, D. Piovesan, S.C.E. Tosatto, R.D. Finn\n",
        "Nucleic Acids Research (2019)  doi: 10.1093/nar/gky995\n",
        "\n",
        "__Dataset used: [Family: Miga (PF10265)](http://pfam.xfam.org/family/PF10265#alignBlock)__\n",
        "Mitoguardin (Miga) was first identified in flies as a mitochondrial outer-membrane protein that promotes mitochondrial fusion. \n",
        "\n",
        "#### About file format: \n",
        "In bioinformatics and biochemistry, the FASTA format is a text-based format for representing either nucleotide sequences or amino acid (protein) sequences, in which nucleotides or amino acids are represented using single-letter codes. The format also allows for sequence names and comments to precede the sequences."
      ]
    },
    {
      "cell_type": "code",
      "metadata": {
        "id": "XsOIjV3IWL2a",
        "colab_type": "code",
        "colab": {}
      },
      "source": [
        "input_file = \"PF10265_seed.fasta\"\n",
        "input_file_high_lenght = \"miga.fasta\"\n",
        "input_file_small_lenght = \"zincFinger.fasta\""
      ],
      "execution_count": 0,
      "outputs": []
    },
    {
      "cell_type": "markdown",
      "metadata": {
        "id": "vn9oMHj4WL2d",
        "colab_type": "text"
      },
      "source": [
        "#### Parsing sequence file formats:"
      ]
    },
    {
      "cell_type": "code",
      "metadata": {
        "id": "mYGtSbHrWL2e",
        "colab_type": "code",
        "outputId": "e4a12b35-4533-4191-b4ef-20e7fd0e9db7",
        "colab": {
          "base_uri": "https://localhost:8080/",
          "height": 496
        }
      },
      "source": [
        "def fasta_reader(input_file):\n",
        "    from Bio.SeqIO.FastaIO import FastaIterator\n",
        "    with open(input_file_small_lenght) as handle:\n",
        "        for record in FastaIterator(handle):\n",
        "            yield record\n",
        "msa = []\n",
        "for entry in fasta_reader(input_file_small_lenght):\n",
        "    msa.append(np.array(list(entry.seq)))\n",
        "    #msa_train.append(entry.seq)\n",
        "    print (\"ID:\", str(entry.id), \"\\t Lenght:\", str(\"{:,d}\".format(len(entry))) ) #This is header of fasta entry\n",
        "    #print (repr(entry.seq), \"\\n\") #This is sequence of specific fasta entry\n",
        "    print (str(entry.seq), \"\\n\") #This is sequence of specific fasta entry"
      ],
      "execution_count": 10,
      "outputs": [
        {
          "output_type": "stream",
          "text": [
            "ID: ACE2_YEAST/603-627 \t Lenght: 31\n",
            "FECLY-PNCN---KVFKRRYNIRSHIQT--H \n",
            "\n",
            "ID: ACE2_YEAST/633-657 \t Lenght: 31\n",
            "YSCDF-PGCT---KAFVRNHDLIRHKIS--H \n",
            "\n",
            "ID: ADR1_YEAST/104-126 \t Lenght: 31\n",
            "FVCE---VCT---RAFARQEHLKRHYRS--H \n",
            "\n",
            "ID: ADR1_YEAST/132-155 \t Lenght: 31\n",
            "YPCG---LCN---RCFTRRDLLIRHAQK-IH \n",
            "\n",
            "ID: B5RIE4_DROME/222-244 \t Lenght: 31\n",
            "FTCK---ICS---RSFGYKHVLQNHERT--H \n",
            "\n",
            "ID: B5RIE4_DROME/306-328 \t Lenght: 31\n",
            "YTCE---ICD---GKFSDSNQLKSHMLV--H \n",
            "\n",
            "ID: BNC1_HUMAN/720-743 \t Lenght: 31\n",
            "FQCD---ICK---KTFKNACSVKIHHKN-MH \n",
            "\n",
            "ID: BNC1_HUMAN/928-951 \t Lenght: 31\n",
            "ITCH---LCQ---KTYSNKGTFRAHYKT-VH \n",
            "\n",
            "ID: BRLA_EMENI/350-375 \t Lenght: 31\n",
            "HVCWV-PGCH---RAFSRSDNLNAHYTK-TH \n",
            "\n"
          ],
          "name": "stdout"
        }
      ]
    },
    {
      "cell_type": "markdown",
      "metadata": {
        "id": "qGeq0OyEWY4m",
        "colab_type": "text"
      },
      "source": [
        "A profile HMM is used to align a sequence to a reference 'profile', where the reference profile can either be a single sequence, or an alignment of many sequences (genomes). In essence, this profile has a 'match' state for every position in the reference profile, and 'insert' state, and a 'delete' state. The insert state allows the external sequence to have an insertion into the sequence without throwing off the entire alignment, such as the following."
      ]
    }
  ]
}