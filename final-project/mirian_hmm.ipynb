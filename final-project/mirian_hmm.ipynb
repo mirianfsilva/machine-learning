{
 "cells": [
  {
   "cell_type": "markdown",
   "metadata": {},
   "source": [
    "# Biological Sequence Analysis using Profile Hidden Markov Models\n",
    "### Machine Learning Final Project\n",
    "##### Mírian Francielle da Silva\n",
    "\n",
    "In this project I used **Hidden Markov Model** (HMM), a probabilistic model to analyze **multiple sequence alignment** (msa) of proteins.\n",
    "\n",
    "In the model, each column of symbols in the alignment is represented by a frequency distribution of the symbols (called a \"state\"), and insertions and deletions are represented by other states. One moves through the model along a particular path from state to state in a Markov chain (i.e., random choice of next move), trying to match a given sequence. The next matching symbol is chosen from each state, recording its probability (frequency) and also the probability of going to that state from a previous one (the transition probability). \n",
    "\n",
    "State and transition probabilities are multiplied to obtain a probability of the given sequence. The hidden nature of the HMM is due to the lack of information about the value of a specific state, which is instead represented by a probability distribution over all possible values."
   ]
  },
  {
   "cell_type": "code",
   "execution_count": null,
   "metadata": {},
   "outputs": [],
   "source": [
    "![title](\"\")"
   ]
  },
  {
   "cell_type": "code",
   "execution_count": 9,
   "metadata": {},
   "outputs": [
    {
     "name": "stdout",
     "output_type": "stream",
     "text": [
      "\n",
      "The following command must be run outside of the IPython shell:\n",
      "\n",
      "    $ pip install biopython\n",
      "\n",
      "The Python package manager (pip) can only be used from outside of IPython.\n",
      "Please reissue the `pip` command in a separate terminal or command prompt.\n",
      "\n",
      "See the Python documentation for more information on how to install packages:\n",
      "\n",
      "    https://docs.python.org/3/installing/\n"
     ]
    }
   ],
   "source": [
    "#Python tools for computational molecular biology\n",
    "%pip install biopython"
   ]
  },
  {
   "cell_type": "code",
   "execution_count": 6,
   "metadata": {},
   "outputs": [
    {
     "name": "stdout",
     "output_type": "stream",
     "text": [
      "\n",
      "The following command must be run outside of the IPython shell:\n",
      "\n",
      "    $ pip install pomegranate\n",
      "\n",
      "The Python package manager (pip) can only be used from outside of IPython.\n",
      "Please reissue the `pip` command in a separate terminal or command prompt.\n",
      "\n",
      "See the Python documentation for more information on how to install packages:\n",
      "\n",
      "    https://docs.python.org/3/installing/\n"
     ]
    }
   ],
   "source": [
    "#Another Hidden Markov Model library\n",
    "%pip install pomegranate"
   ]
  },
  {
   "cell_type": "code",
   "execution_count": 10,
   "metadata": {},
   "outputs": [
    {
     "name": "stdout",
     "output_type": "stream",
     "text": [
      "\n",
      "The following command must be run outside of the IPython shell:\n",
      "\n",
      "    $ pip install hmmlearn\n",
      "\n",
      "The Python package manager (pip) can only be used from outside of IPython.\n",
      "Please reissue the `pip` command in a separate terminal or command prompt.\n",
      "\n",
      "See the Python documentation for more information on how to install packages:\n",
      "\n",
      "    https://docs.python.org/3/installing/\n"
     ]
    }
   ],
   "source": [
    "#Hidden Markov Models learn library\n",
    "%pip install hmmlearn"
   ]
  },
  {
   "cell_type": "code",
   "execution_count": 2,
   "metadata": {},
   "outputs": [],
   "source": [
    "#For better visualizations\n",
    "#%pip install pygraphviz"
   ]
  },
  {
   "cell_type": "code",
   "execution_count": 11,
   "metadata": {},
   "outputs": [],
   "source": [
    "# Important modules \n",
    "from __future__ import print_function, division\n",
    "from future.utils import iteritems\n",
    "from builtins import range, input\n",
    "\n",
    "import argparse, sys\n",
    "\n",
    "import matplotlib\n",
    "import matplotlib as mpl\n",
    "import matplotlib.style\n",
    "import matplotlib.pyplot as plt\n",
    "import seaborn as sns\n",
    "\n",
    "import numpy as np\n",
    "import Bio\n",
    "import timeit\n",
    "\n",
    "from Bio.Seq import Seq\n",
    "from Bio import SeqIO\n",
    "from sklearn.utils import shuffle\n",
    "from scipy.io import loadmat\n",
    "from scipy.stats import norm\n",
    "from pomegranate import *\n",
    "\n",
    "from hmmlearn import hmm\n",
    "from multiprocessing import Pool, TimeoutError"
   ]
  },
  {
   "cell_type": "code",
   "execution_count": 12,
   "metadata": {},
   "outputs": [
    {
     "name": "stdout",
     "output_type": "stream",
     "text": [
      "Biopython v1.73\n"
     ]
    }
   ],
   "source": [
    "print(\"Biopython v\" + Bio.__version__)"
   ]
  },
  {
   "cell_type": "markdown",
   "metadata": {},
   "source": [
    "#### About dataset: \n",
    "\n",
    "The [Pfam](http://pfam.xfam.org/) database is a large collection of protein families, each represented by multiple sequence alignments and hidden Markov models (HMMs). \n",
    "\n",
    "[Pfam References](http://pfam.xfam.org/help?tab=helpReferencesBlock):\n",
    "[The Pfam protein families database in 2019](https://academic.oup.com/nar/article/47/D1/D427/5144153): S. El-Gebali, J. Mistry, A. Bateman, S.R. Eddy, A. Luciani, S.C. Potter, M. Qureshi, L.J. Richardson, G.A. Salazar, A. Smart, E.L.L. Sonnhammer, L. Hirsh, L. Paladin, D. Piovesan, S.C.E. Tosatto, R.D. Finn\n",
    "Nucleic Acids Research (2019)  doi: 10.1093/nar/gky995\n",
    "\n",
    "__Dataset used: [Family: Miga (PF10265)](http://pfam.xfam.org/family/PF10265#alignBlock)__\n",
    "Mitoguardin (Miga) was first identified in flies as a mitochondrial outer-membrane protein that promotes mitochondrial fusion. \n",
    "\n",
    "__Dataset used: [Family: Goblins4 (PF10265)](http://pfam.xfam.org/family/PF10265#alignBlock)__\n",
    "\n",
    "#### About file format: \n",
    "In bioinformatics and biochemistry, the FASTA format is a text-based format for representing either nucleotide sequences or amino acid (protein) sequences, in which nucleotides or amino acids are represented using single-letter codes. The format also allows for sequence names and comments to precede the sequences."
   ]
  },
  {
   "cell_type": "code",
   "execution_count": 41,
   "metadata": {},
   "outputs": [],
   "source": [
    "input_file = \"globins45.fa\""
   ]
  },
  {
   "cell_type": "markdown",
   "metadata": {},
   "source": [
    "#### Parsing sequence: "
   ]
  },
  {
   "cell_type": "code",
   "execution_count": 42,
   "metadata": {},
   "outputs": [
    {
     "name": "stdout",
     "output_type": "stream",
     "text": [
      "ID: MYG_ESCGI \t Lenght: 153\n",
      "Seq('VLSDAEWQLVLNIWAKVEADVAGHGQDILIRLFKGHPETLEKFDKFKHLKTEAE...FQG', SingleLetterAlphabet()) \n",
      "\n",
      "ID: MYG_HORSE \t Lenght: 153\n",
      "Seq('GLSDGEWQQVLNVWGKVEADIAGHGQEVLIRLFTGHPETLEKFDKFKHLKTEAE...FQG', SingleLetterAlphabet()) \n",
      "\n",
      "ID: MYG_PROGU \t Lenght: 153\n",
      "Seq('GLSDGEWQLVLNVWGKVEGDLSGHGQEVLIRLFKGHPETLEKFDKFKHLKAEDE...FQG', SingleLetterAlphabet()) \n",
      "\n",
      "ID: MYG_SAISC \t Lenght: 153\n",
      "Seq('GLSDGEWQLVLNIWGKVEADIPSHGQEVLISLFKGHPETLEKFDKFKHLKSEDE...FQG', SingleLetterAlphabet()) \n",
      "\n",
      "ID: MYG_LYCPI \t Lenght: 153\n",
      "Seq('GLSDGEWQIVLNIWGKVETDLAGHGQEVLIRLFKNHPETLDKFDKFKHLKTEDE...FQG', SingleLetterAlphabet()) \n",
      "\n",
      "ID: MYG_MOUSE \t Lenght: 153\n",
      "Seq('GLSDGEWQLVLNVWGKVEADLAGHGQEVLIGLFKTHPETLDKFDKFKNLKSEED...FQG', SingleLetterAlphabet()) \n",
      "\n",
      "ID: MYG_MUSAN \t Lenght: 148\n",
      "Seq('VDWEKVNSVWSAVESDLTAIGQNILLRLFEQYPESQNHFPKFKNKSLGELKDTA...FQG', SingleLetterAlphabet()) \n",
      "\n",
      "ID: HBA_AILME \t Lenght: 141\n",
      "Seq('VLSPADKTNVKATWDKIGGHAGEYGGEALERTFASFPTTKTYFPHFDLSPGSAQ...KYR', SingleLetterAlphabet()) \n",
      "\n",
      "ID: HBA_PROLO \t Lenght: 141\n",
      "Seq('VLSPADKANIKATWDKIGGHAGEYGGEALERTFASFPTTKTYFPHFDLSPGSAQ...KYR', SingleLetterAlphabet()) \n",
      "\n",
      "ID: HBA_PAGLA \t Lenght: 141\n",
      "Seq('VLSSADKNNIKATWDKIGSHAGEYGAEALERTFISFPTTKTYFPHFDLSHGSAQ...KYR', SingleLetterAlphabet()) \n",
      "\n",
      "ID: HBA_MACFA \t Lenght: 141\n",
      "Seq('VLSPADKTNVKAAWGKVGGHAGEYGAEALERMFLSFPTTKTYFPHFDLSHGSAQ...KYR', SingleLetterAlphabet()) \n",
      "\n",
      "ID: HBA_MACSI \t Lenght: 141\n",
      "Seq('VLSPADKTNVKDAWGKVGGHAGEYGAEALERMFLSFPTTKTYFPHFDLSHGSAQ...KYR', SingleLetterAlphabet()) \n",
      "\n",
      "ID: HBA_PONPY \t Lenght: 141\n",
      "Seq('VLSPADKTNVKTAWGKVGAHAGDYGAEALERMFLSFPTTKTYFPHFDLSHGSAQ...KYR', SingleLetterAlphabet()) \n",
      "\n",
      "ID: HBA2_GALCR \t Lenght: 141\n",
      "Seq('VLSPTDKSNVKAAWEKVGAHAGDYGAEALERMFLSFPTTKTYFPHFDLSHGSTQ...KYR', SingleLetterAlphabet()) \n",
      "\n",
      "ID: HBA_MESAU \t Lenght: 141\n",
      "Seq('VLSAKDKTNISEAWGKIGGHAGEYGAEALERMFFVYPTTKTYFPHFDVSHGSAQ...KYR', SingleLetterAlphabet()) \n",
      "\n",
      "ID: HBA2_BOSMU \t Lenght: 141\n",
      "Seq('VLSAADKGNVKAAWGKVGGHAAEYGAEALERMFLSFPTTKTYFPHFDLSHGSAQ...KYR', SingleLetterAlphabet()) \n",
      "\n",
      "ID: HBA_ERIEU \t Lenght: 141\n",
      "Seq('VLSATDKANVKTFWGKLGGHGGEYGGEALDRMFQAHPTTKTYFPHFDLNPGSAQ...KYR', SingleLetterAlphabet()) \n",
      "\n",
      "ID: HBA_FRAPO \t Lenght: 141\n",
      "Seq('VLSAADKNNVKGIFGKISSHAEDYGAEALERMFITYPSTKTYFPHFDLSHGSAQ...KYR', SingleLetterAlphabet()) \n",
      "\n",
      "ID: HBA_PHACO \t Lenght: 141\n",
      "Seq('VLSAADKNNVKGIFTKIAGHAEEYGAEALERMFITYPSTKTYFPHFDLSHGSAQ...KYR', SingleLetterAlphabet()) \n",
      "\n",
      "ID: HBA_TRIOC \t Lenght: 141\n",
      "Seq('VLSANDKTNVKTVFTKITGHAEDYGAETLERMFITYPPTKTYFPHFDLHHGSAQ...KYR', SingleLetterAlphabet()) \n",
      "\n",
      "ID: HBA_ANSSE \t Lenght: 141\n",
      "Seq('VLSAADKGNVKTVFGKIGGHAEEYGAETLQRMFQTFPQTKTYFPHFDLQPGSAQ...KYR', SingleLetterAlphabet()) \n",
      "\n",
      "ID: HBA_COLLI \t Lenght: 141\n",
      "Seq('VLSANDKSNVKAVFAKIGGQAGDLGGEALERLFITYPQTKTYFPHFDLSHGSAQ...KYR', SingleLetterAlphabet()) \n",
      "\n",
      "ID: HBAD_CHLME \t Lenght: 141\n",
      "Seq('MLTADDKKLLTQLWEKVAGHQEEFGSEALQRMFLTYPQTKTYFPHFDLHPGSEQ...KYR', SingleLetterAlphabet()) \n",
      "\n",
      "ID: HBAD_PASMO \t Lenght: 141\n",
      "Seq('MLTAEDKKLIQQIWGKLGGAEEEIGADALWRMFHSYPSTKTYFPHFDLSQGSDQ...KYR', SingleLetterAlphabet()) \n",
      "\n",
      "ID: HBAZ_HORSE \t Lenght: 141\n",
      "Seq('SLTKAERTMVVSIWGKISMQADAVGTEALQRLFSSYPQTKTYFPHFDLHEGSPQ...KYR', SingleLetterAlphabet()) \n",
      "\n",
      "ID: HBA4_SALIR \t Lenght: 142\n",
      "Seq('SLSAKDKANVKAIWGKILPKSDEIGEQALSRMLVVYPQTKAYFSHWASVAPGSA...KYR', SingleLetterAlphabet()) \n",
      "\n",
      "ID: HBB_ORNAN \t Lenght: 146\n",
      "Seq('VHLSGGEKSAVTNLWGKVNINELGGEALGRLLVVYPWTQRFFEAFGDLSSAGAV...KYH', SingleLetterAlphabet()) \n",
      "\n",
      "ID: HBB_TACAC \t Lenght: 146\n",
      "Seq('VHLSGSEKTAVTNLWGHVNVNELGGEALGRLLVVYPWTQRFFESFGDLSSADAV...KYH', SingleLetterAlphabet()) \n",
      "\n",
      "ID: HBE_PONPY \t Lenght: 146\n",
      "Seq('VHFTAEEKAAVTSLWSKMNVEEAGGEALGRLLVVYPWTQRFFDSFGNLSSPSAI...KYH', SingleLetterAlphabet()) \n",
      "\n",
      "ID: HBB_SPECI \t Lenght: 146\n",
      "Seq('VHLSDGEKNAISTAWGKVHAAEVGAEALGRLLVVYPWTQRFFDSFGDLSSASAV...KYH', SingleLetterAlphabet()) \n",
      "\n",
      "ID: HBB_SPETO \t Lenght: 146\n",
      "Seq('VHLTDGEKNAISTAWGKVNAAEIGAEALGRLLVVYPWTQRFFDSFGDLSSASAV...KYH', SingleLetterAlphabet()) \n",
      "\n",
      "ID: HBB_EQUHE \t Lenght: 146\n",
      "Seq('VQLSGEEKAAVLALWDKVNEEEVGGEALGRLLVVYPWTQRFFDSFGDLSNPAAV...KYH', SingleLetterAlphabet()) \n",
      "\n",
      "ID: HBB_SUNMU \t Lenght: 146\n",
      "Seq('VHLSGEEKACVTGLWGKVNEDEVGAEALGRLLVVYPWTQRFFDSFGDLSSASAV...KYH', SingleLetterAlphabet()) \n",
      "\n",
      "ID: HBB_CALAR \t Lenght: 146\n",
      "Seq('VHLTGEEKSAVTALWGKVNVDEVGGEALGRLLVVYPWTQRFFESFGDLSTPDAV...KYH', SingleLetterAlphabet()) \n",
      "\n",
      "ID: HBB_MANSP \t Lenght: 146\n",
      "Seq('VHLTPEEKTAVTTLWGKVNVDEVGGEALGRLLVVYPWTQRFFDSFGDLSSPDAV...KYH', SingleLetterAlphabet()) \n",
      "\n",
      "ID: HBB_URSMA \t Lenght: 146\n",
      "Seq('VHLTGEEKSLVTGLWGKVNVDEVGGEALGRLLVVYPWTQRFFDSFGDLSSADAI...KYH', SingleLetterAlphabet()) \n",
      "\n",
      "ID: HBB_RABIT \t Lenght: 146\n",
      "Seq('VHLSSEEKSAVTALWGKVNVEEVGGEALGRLLVVYPWTQRFFESFGDLSSANAV...KYH', SingleLetterAlphabet()) \n",
      "\n",
      "ID: HBB_TUPGL \t Lenght: 146\n",
      "Seq('VHLSGEEKAAVTGLWGKVDLEKVGGQSLGSLLIVYPWTQRFFDSFGDLSSPSAV...KYH', SingleLetterAlphabet()) \n",
      "\n",
      "ID: HBB_TRIIN \t Lenght: 146\n",
      "Seq('VHLTPEEKALVIGLWAKVNVKEYGGEALGRLLVVYPWTQRFFEHFGDLSSASAI...KYH', SingleLetterAlphabet()) \n",
      "\n",
      "ID: HBB_COLLI \t Lenght: 146\n",
      "Seq('VHWSAEEKQLITSIWGKVNVADCGAEALARLLIVYPWTQRFFSSFGNLSSATAI...KYH', SingleLetterAlphabet()) \n",
      "\n",
      "ID: HBB_LARRI \t Lenght: 146\n",
      "Seq('VHWSAEEKQLITGLWGKVNVADCGAEALARLLIVYPWTQRFFASFGNLSSPTAI...KYH', SingleLetterAlphabet()) \n",
      "\n",
      "ID: HBB1_VAREX \t Lenght: 146\n",
      "Seq('VHWTAEEKQLICSLWGKIDVGLIGGETLAGLLVIYPWTQRQFSHFGNLSSPTAI...RYH', SingleLetterAlphabet()) \n",
      "\n",
      "ID: HBB2_XENTR \t Lenght: 146\n",
      "Seq('VHWTAEEKATIASVWGKVDIEQDGHDALSRLLVVYPWTQRYFSSFGNLSNVSAV...GYF', SingleLetterAlphabet()) \n",
      "\n",
      "ID: HBBL_RANCA \t Lenght: 146\n",
      "Seq('VHWTAEEKAVINSVWQKVDVEQDGHEALTRLFIVYPWTQRYFSTFGDLSSPAAI...SYH', SingleLetterAlphabet()) \n",
      "\n",
      "ID: HBB2_TRICR \t Lenght: 145\n",
      "Seq('VHLTAEDRKEIAAILGKVNVDSLGGQCLARLIVVNPWSRRYFHDFGDLSSCDAI...HGY', SingleLetterAlphabet()) \n",
      "\n"
     ]
    }
   ],
   "source": [
    "def fasta_reader(input_file):\n",
    "    from Bio.SeqIO.FastaIO import FastaIterator\n",
    "    with open(input_file) as handle:\n",
    "        for record in FastaIterator(handle):\n",
    "            yield record\n",
    "\n",
    "msa = []\n",
    "for entry in fasta_reader(input_file):\n",
    "    msa.append(entry.seq)\n",
    "    #msa_train.append(entry.seq)\n",
    "    print (\"ID:\", str(entry.id), \"\\t Lenght:\", str(\"{:,d}\".format(len(entry))) ) #This is header of fasta entry\n",
    "    print (repr(entry.seq), \"\\n\") #This is sequence of specific fasta entry\n",
    "    #print (str(entry.seq), \"\\n\") #This is sequence of specific fasta entry\n",
    "    \n",
    "#print(msa)"
   ]
  },
  {
   "cell_type": "markdown",
   "metadata": {},
   "source": [
    "When designing a HMM, the most important criteria are the number of states and the transitions between them.\n",
    "\n",
    "### HMM Problems:\n",
    "To analyse and describe data with HMMs, three major problems must be solved. \n",
    "- _What is the probability of an observed sequence according to a given model?_ \n",
    "This can be calculated using the forward algorithm and the result can be used, among others, to decide which model in a collection of HMMs best describes an observation.\n",
    "- _The next problem is to find the most probable state sequence to have emitted an observation._\n",
    "This state sequence can be used to determine the process which has caused the observation and is calculated with the Viterbi algorithm. \n",
    "- _The third problem is to optimize the model, to maximize the probabilities of given observations._\n",
    "The best-known method for HMM training is the Baum-Welch, aka, Expectation Maximization training algorithm."
   ]
  },
  {
   "cell_type": "markdown",
   "metadata": {},
   "source": [
    "### Exact test performed with Viterbi algorithm, and manually entered data from an ACTG sequence.\n",
    "\n",
    "These tests were done this way to check the alignment of a very short sequence. Because the dataset you choose has a very large string that takes a long time to run."
   ]
  },
  {
   "cell_type": "code",
   "execution_count": 23,
   "metadata": {},
   "outputs": [],
   "source": [
    "import warnings\n",
    "warnings.filterwarnings('ignore')\n",
    "\n",
    "hmm = HiddenMarkovModel()\n",
    "model = HiddenMarkovModel(\"Global Alignment\")\n",
    "\n",
    "# Distribuição de probabilidades das inserções\n",
    "insertions_distributions = DiscreteDistribution( { 'A': 0.25, 'C': 0.25, 'G': 0.25, 'T': 0.25 } )\n",
    "\n",
    "# Criação de estados inseridos no grafo\n",
    "i0 = State( insertions_distributions, name=\"I0\" )\n",
    "i1 = State( insertions_distributions, name=\"I1\" )\n",
    "i2 = State( insertions_distributions, name=\"I2\" )\n",
    "i3 = State( insertions_distributions, name=\"I3\" )\n",
    "\n",
    "# Criando a distribuição discreta Gaussiana de probabilidade, dos estados com \"match\" de simbolos\n",
    "m1 = State( DiscreteDistribution({ \"A\": 0.95, 'C': 0.01, 'G': 0.01, 'T': 0.02 }) , name=\"M1\" )\n",
    "m2 = State( DiscreteDistribution({ \"A\": 0.003, 'C': 0.99, 'G': 0.003, 'T': 0.004 }) , name=\"M2\" )\n",
    "m3 = State( DiscreteDistribution({ \"A\": 0.01, 'C': 0.01, 'G': 0.01, 'T': 0.97 }) , name=\"M3\" )\n",
    "\n",
    "# Criação de estados deletados\n",
    "d1 = State( None, name=\"D1\" )\n",
    "d2 = State( None, name=\"D2\" )\n",
    "d3 = State( None, name=\"D3\" )"
   ]
  },
  {
   "cell_type": "code",
   "execution_count": 24,
   "metadata": {},
   "outputs": [],
   "source": [
    "# Todos os estados inseridos no modelo HMM\n",
    "#Estados que compõe a sequência, e os dados inseridos e deletados\n",
    "model.add_states( [i0, i1, i2, i3, m1, m2, m3, d1, d2, d3 ] )\n",
    "\n",
    "# Create transitions from match states\n",
    "model.add_transition( model.start, m1, 0.9 )\n",
    "model.add_transition( model.start, i0, 0.1 )\n",
    "model.add_transition( m1, m2, 0.9 )\n",
    "model.add_transition( m1, i1, 0.05 )\n",
    "model.add_transition( m1, d2, 0.05 )\n",
    "model.add_transition( m2, m3, 0.9 )\n",
    "model.add_transition( m2, i2, 0.05 )\n",
    "model.add_transition( m2, d3, 0.05 )\n",
    "model.add_transition( m3, model.end, 0.9 )\n",
    "model.add_transition( m3, i3, 0.1 )"
   ]
  },
  {
   "cell_type": "code",
   "execution_count": 25,
   "metadata": {},
   "outputs": [],
   "source": [
    "# Create transitions from insert states\n",
    "model.add_transition( i0, i0, 0.70 )\n",
    "model.add_transition( i0, d1, 0.15 )\n",
    "model.add_transition( i0, m1, 0.15 )\n",
    "\n",
    "model.add_transition( i1, i1, 0.70 )\n",
    "model.add_transition( i1, d2, 0.15 )\n",
    "model.add_transition( i1, m2, 0.15 )\n",
    "\n",
    "model.add_transition( i2, i2, 0.70 )\n",
    "model.add_transition( i2, d3, 0.15 )\n",
    "model.add_transition( i2, m3, 0.15 )\n",
    "\n",
    "model.add_transition( i3, i3, 0.85 )\n",
    "model.add_transition( i3, model.end, 0.15 )"
   ]
  },
  {
   "cell_type": "code",
   "execution_count": 26,
   "metadata": {},
   "outputs": [],
   "source": [
    "# Create transitions from delete states\n",
    "model.add_transition( d1, d2, 0.15 )\n",
    "model.add_transition( d1, i1, 0.15 )\n",
    "model.add_transition( d1, m2, 0.70 ) \n",
    "\n",
    "model.add_transition( d2, d3, 0.15 )\n",
    "model.add_transition( d2, i2, 0.15 )\n",
    "model.add_transition( d2, m3, 0.70 )\n",
    "\n",
    "model.add_transition( d3, i3, 0.30 )\n",
    "model.add_transition( d3, model.end, 0.70 )"
   ]
  },
  {
   "cell_type": "code",
   "execution_count": 34,
   "metadata": {},
   "outputs": [
    {
     "name": "stdout",
     "output_type": "stream",
     "text": [
      "Sequence: 'ACT'  -- Log Probability: -0.5132449003570658 -- Path: M1 M2 M3\n",
      "Sequence: 'GGC'  -- Log Probability: -11.048101241343396 -- Path: I0 I0 D1 M2 D3\n",
      "Sequence: 'GAT'  -- Log Probability: -9.125519674022627 -- Path: I0 M1 D2 M3\n",
      "Sequence: 'ACC'  -- Log Probability: -5.0879558788604475 -- Path: M1 M2 M3\n"
     ]
    },
    {
     "data": {
      "image/png": "[encoded data removed]",
      "text/plain": [
       "<Figure size 432x432 with 1 Axes>"
      ]
     },
     "metadata": {},
     "output_type": "display_data"
    }
   ],
   "source": [
    "# Call bake to finalize the structure of the model.\n",
    "model.bake()\n",
    "\n",
    "plt.figure(figsize=(6,6))\n",
    "model.plot()\n",
    "\n",
    "for sequence in map( list, ('ACT', 'GGC', 'GAT', 'ACC') ):\n",
    "    logp, path = model.viterbi( sequence )\n",
    "    print (\"Sequence: '{}'  -- Log Probability: {} -- Path: {}\".format(''.join( sequence ), logp, \" \".join( state.name for idx, state in path[1:-1] ) ))"
   ]
  },
  {
   "cell_type": "code",
   "execution_count": 35,
   "metadata": {},
   "outputs": [
    {
     "name": "stdout",
     "output_type": "stream",
     "text": [
      "Sequence: 'A'  -- Log Probability: -5.406181012423981 -- Path: M1 D2 D3\n",
      "Sequence: 'GA'  -- Log Probability: -10.88681993576597 -- Path: I0 M1 D2 D3\n",
      "Sequence: 'AC'  -- Log Probability: -3.6244718790494277 -- Path: M1 M2 D3\n",
      "Sequence: 'AT'  -- Log Probability: -3.644880750680635 -- Path: M1 D2 M3\n",
      "Sequence: 'ATCC'  -- Log Probability: -10.674332964640293 -- Path: M1 D2 M3 I3 I3\n",
      "Sequence: 'ACGTG'  -- Log Probability: -10.393824835172445 -- Path: M1 M2 I2 I2 I2 D3\n",
      "Sequence: 'ATTT'  -- Log Probability: -8.67126440174503 -- Path: M1 I1 I1 D2 M3\n",
      "Sequence: 'TACCCTC'  -- Log Probability: -16.903451796110275 -- Path: I0 I0 I0 I0 D1 M2 M3 I3\n",
      "Sequence: 'TGTCAACACT'  -- Log Probability: -16.451699654050792 -- Path: I0 I0 I0 I0 I0 I0 I0 M1 M2 M3\n"
     ]
    }
   ],
   "source": [
    "for sequence in map( list, ('A', 'GA', 'AC', 'AT', 'ATCC', 'ACGTG', 'ATTT', 'TACCCTC', 'TGTCAACACT') ):\n",
    "    logp, path = model.viterbi( sequence )\n",
    "    print (\"Sequence: '{}'  -- Log Probability: {} -- Path: {}\".format(\n",
    "        ''.join( sequence ), logp, \" \".join( state.name for idx, state in path[1:-1] ) ))"
   ]
  },
  {
   "cell_type": "code",
   "execution_count": 36,
   "metadata": {},
   "outputs": [],
   "source": [
    "def path_to_alignment( x, y, path ):\n",
    "    \"\"\"\n",
    "    This function will take in two sequences, and the ML path which is their alignment,\n",
    "    and insert dashes appropriately to make them appear aligned. This consists only of\n",
    "    adding a dash to the model sequence for every insert in the path appropriately, and\n",
    "    a dash in the observed sequence for every delete in the path appropriately.\n",
    "    \"\"\"\n",
    "    \n",
    "    for i, (index, state) in enumerate( path[1:-1] ):\n",
    "        name = state.name\n",
    "        \n",
    "        if name.startswith( 'D' ):\n",
    "            y = y[:i] + '-' + y[i:]\n",
    "        elif name.startswith( 'I' ):\n",
    "            x = x[:i] + '-' + x[i:]\n",
    "\n",
    "    return x, y"
   ]
  },
  {
   "cell_type": "code",
   "execution_count": 39,
   "metadata": {},
   "outputs": [
    {
     "name": "stdout",
     "output_type": "stream",
     "text": [
      "Sequence: 'A'  -- Log Probability: -5.406181012423981 -- Path: M1 D2 D3\n",
      "Sequence: 'GA'  -- Log Probability: -10.88681993576597 -- Path: I0 M1 D2 D3\n",
      "Sequence: 'AC'  -- Log Probability: -3.6244718790494277 -- Path: M1 M2 D3\n",
      "Sequence: 'AT'  -- Log Probability: -3.644880750680635 -- Path: M1 D2 M3\n",
      "Sequence: 'ATCC'  -- Log Probability: -10.674332964640293 -- Path: M1 D2 M3 I3 I3\n",
      "Sequence: 'ACGTG'  -- Log Probability: -10.393824835172445 -- Path: M1 M2 I2 I2 I2 D3\n",
      "Sequence: 'ATTT'  -- Log Probability: -8.67126440174503 -- Path: M1 I1 I1 D2 M3\n",
      "Sequence: 'TACCCTC'  -- Log Probability: -16.903451796110275 -- Path: I0 I0 I0 I0 D1 M2 M3 I3\n",
      "Sequence: 'TGTCAACACT'  -- Log Probability: -16.451699654050792 -- Path: I0 I0 I0 I0 I0 I0 I0 M1 M2 M3\n"
     ]
    },
    {
     "data": {
      "image/png": "[encoded data removed]",
      "text/plain": [
       "<Figure size 432x432 with 1 Axes>"
      ]
     },
     "metadata": {},
     "output_type": "display_data"
    }
   ],
   "source": [
    "# Call bake to finalize the structure of the model.\n",
    "model.bake()\n",
    "\n",
    "plt.figure(figsize=(6,6))\n",
    "model.plot()\n",
    "\n",
    "for sequence in map( list, ('A', 'GA', 'AC', 'AT', 'ATCC', 'ACGTG', 'ATTT', 'TACCCTC', 'TGTCAACACT') ):\n",
    "    logp, path = model.viterbi( sequence )\n",
    "    print (\"Sequence: '{}'  -- Log Probability: {} -- Path: {}\".format(''.join( sequence ), logp, \" \".join( state.name for idx, state in path[1:-1] ) ))"
   ]
  },
  {
   "cell_type": "markdown",
   "metadata": {},
   "source": [
    "**The tests listed below were performed using the HMMER (see references). The dataset used was executed addressing the three problems of an HMM. The library cannot be executed directly in jupyter, because it is built in C, so I ran the test cases, right in the terminal. Listed below are the commands used for alignment, and the output of the generated file**\n"
   ]
  },
  {
   "cell_type": "markdown",
   "metadata": {},
   "source": [
    "*hmmbuild :: profile HMM construction from multiple sequence alignments*\n",
    "\n",
    "*input alignment file: globins4.sto*\n",
    "*output HMM file: globins4.hmm*"
   ]
  },
  {
   "cell_type": "code",
   "execution_count": 43,
   "metadata": {},
   "outputs": [
    {
     "name": "stderr",
     "output_type": "stream",
     "text": [
      "UsageError: Line magic function `%hmmbuild` not found.\n"
     ]
    }
   ],
   "source": [
    "%hmmbuild globins4.hmm globins4.sto"
   ]
  },
  {
   "cell_type": "code",
   "execution_count": 46,
   "metadata": {},
   "outputs": [
    {
     "data": {
      "text/plain": [
       "'\\nNAME  globins4\\nLENG  149\\nALPH  amino\\nRF    no\\nMM    no\\nCONS  yes\\nCS    no\\nMAP   yes\\nNSEQ  4\\nEFFN  0.964844\\nCKSUM 2027839109\\nSTATS LOCAL MSV       -9.9014  0.70957\\nSTATS LOCAL VITERBI  -10.7224  0.70957\\nSTATS LOCAL FORWARD   -4.1637  0.70957\\n'"
      ]
     },
     "execution_count": 46,
     "metadata": {},
     "output_type": "execute_result"
    }
   ],
   "source": [
    "\"\"\"\n",
    "NAME  globins4\n",
    "LENG  149\n",
    "ALPH  amino\n",
    "RF    no\n",
    "MM    no\n",
    "CONS  yes\n",
    "CS    no\n",
    "MAP   yes\n",
    "NSEQ  4\n",
    "EFFN  0.964844\n",
    "CKSUM 2027839109\n",
    "STATS LOCAL MSV       -9.9014  0.70957\n",
    "STATS LOCAL VITERBI  -10.7224  0.70957\n",
    "STATS LOCAL FORWARD   -4.1637  0.70957\n",
    "\"\"\""
   ]
  },
  {
   "cell_type": "markdown",
   "metadata": {},
   "source": [
    "**The information in these lines is almost self explanatory. Globins4 alignment consisted of 4 sequences with 171 aligned columns. HMMER has transformed it into a profile of 149 consensus positions, which means it has defined 22 alignment columns containing to be consensus-related inserts.**\n",
    "\n",
    "Below we can see whole sequence matchs, sequence scores and bias."
   ]
  },
  {
   "cell_type": "code",
   "execution_count": null,
   "metadata": {},
   "outputs": [],
   "source": [
    "%hmmsearch globins4.hmm uniprot_sprot.fasta > globins4.out"
   ]
  },
  {
   "cell_type": "markdown",
   "metadata": {},
   "source": [
    "```\n",
    "-full      -best 1 domain --- -#domE-value score bias E-value score bias exp N Sequence Description\n",
    "sequence\n",
    "6.7e-65    222.7   3.2   7.5e-65   222.6 3.2 1.0 1 sp|P02185|MYG_PHYCD Myoglobin OS=Physeter catodon OX=9755\n",
    "3.5e-63    217.2   0.1   3.8e-63   217.0 0.1 1.0 1 sp|P02024|HBB_GORGO Hemoglobin subunit beta OS=Gorilla gor\n",
    "5e-63      216.6   0.0   5.6e-63   216.5 0.0 1.0 1 sp|P68871|HBB_HUMAN Hemoglobin subunit beta OS=Homo sapien\n",
    "5e-63      216.6   0.0   5.6e-63   216.5 0.0 1.0 1 sp|P68872|HBB_PANPA Hemoglobin subunit beta OS=Pan paniscu\n",
    "5e-63      216.6   0.0   5.6e-63   216.5 0.0 1.0 1 sp|P68873|HBB_PANTR Hemoglobin subunit beta OS=Pan troglod\n",
    "7.2e-63    216.1   3.0   8e-63     216.0 3.0 1.0 1 sp|P02177|MYG_ESCRO Myoglobin OS=Eschrichtius robustus OX\n",
    "\n",
    "```"
   ]
  },
  {
   "cell_type": "markdown",
   "metadata": {},
   "source": [
    "Note: I ended up changing the previous dataset, which was presented in the poster. Because even using HMMEr for very large sequence cases, my machine was not supporting it. And expectation maximization was taking a long time to run."
   ]
  },
  {
   "cell_type": "code",
   "execution_count": null,
   "metadata": {},
   "outputs": [],
   "source": [
    "#Como instalar o *hmmer*\n",
    "\"\"\"\n",
    "Some examples that I know of: 3 Thanks to all the people who do the\n",
    "packaging!\n",
    "% brew install hmmer # OS/X, HomeBrew\n",
    "% port install hmmer # OS/X, MacPorts\n",
    "% apt install hmmer # Linux (Ubuntu, Debian...)\n",
    "% dnf install hmmer # Linux (Fedora)\n",
    "% yum install hmmer # Linux (older Fedora)\n",
    "% conda install -c biocore hmmer # Anaconda\n",
    "\"\"\""
   ]
  },
  {
   "cell_type": "markdown",
   "metadata": {},
   "source": [
    "### Conclusion\n",
    "\n",
    "The HMM model is widely used in this area of sequence alignment and approximation of DNA and RNA analysis, however it is an area in which I found little research, or results that I could compare to. So the dataset I ran was one that the alignment parameters are already known so I could complete the tests."
   ]
  }
 ],
 "metadata": {
  "kernelspec": {
   "display_name": "Python 3",
   "language": "python",
   "name": "python3"
  },
  "language_info": {
   "codemirror_mode": {
    "name": "ipython",
    "version": 3
   },
   "file_extension": ".py",
   "mimetype": "text/x-python",
   "name": "python",
   "nbconvert_exporter": "python",
   "pygments_lexer": "ipython3",
   "version": "3.7.3"
  }
 },
 "nbformat": 4,
 "nbformat_minor": 2
}
