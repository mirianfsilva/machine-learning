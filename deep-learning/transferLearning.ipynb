{
  "nbformat": 4,
  "nbformat_minor": 0,
  "metadata": {
    "colab": {
      "name": "transferLearning.ipynb",
      "version": "0.3.2",
      "provenance": [],
      "collapsed_sections": [],
      "include_colab_link": true
    },
    "language_info": {
      "codemirror_mode": {
        "name": "ipython",
        "version": 3
      },
      "file_extension": ".py",
      "mimetype": "text/x-python",
      "name": "python",
      "nbconvert_exporter": "python",
      "pygments_lexer": "ipython3",
      "version": "3.7.3"
    },
    "kernelspec": {
      "display_name": "Python 3",
      "language": "python",
      "name": "python3"
    },
    "accelerator": "GPU"
  },
  "cells": [
    {
      "cell_type": "markdown",
      "metadata": {
        "id": "view-in-github",
        "colab_type": "text"
      },
      "source": [
        "<a href=\"https://colab.research.google.com/github/mirianfsilva/machine-learning/blob/master/deep-learning/transferLearning.ipynb\" target=\"_parent\"><img src=\"https://colab.research.google.com/assets/colab-badge.svg\" alt=\"Open In Colab\"/></a>"
      ]
    },
    {
      "cell_type": "markdown",
      "metadata": {
        "colab_type": "text",
        "id": "j93fpJvZ95TE"
      },
      "source": [
        "# Transfer Learning\n",
        "### Practical II - Machine Learning\n",
        "#### Mírian Francielle \n",
        "\n",
        "- Objectives: \n",
        "The goal of this practical is to practice the use of Convolutional Neural Networks (CNNs) and Transfer Learning. In this practical you will compare three strategies for training CNNs, two of which use Transfer Learning, in an image classification problem. \n",
        "\n",
        "- Task:\n",
        "Train a CNN to classify the images from part A using the Keras API for TensorFlow. \n",
        "\n",
        "- Dataset:  CIFAR-101 . This dataset has 60000 images of 32x32 pixels, of which 50000 are for training and 10000 for test. Each image belongs to one of 10 classes, numbered from 0 to 9. The classes are: airplane, automobile, bird, cat, deer, dog, frog,\n",
        "horse, ship and truck. \n",
        "\n",
        "- References: [The CIFAR-10 dataset](https://www.cs.toronto.edu/~kriz/cifar.html)\n"
      ]
    },
    {
      "cell_type": "code",
      "metadata": {
        "colab_type": "code",
        "id": "t8qJhl_X4-pG",
        "colab": {}
      },
      "source": [
        "import matplotlib\n",
        "import matplotlib as mpl\n",
        "import matplotlib.style\n",
        "import matplotlib.pyplot as plt\n",
        "\n",
        "import pandas as pd\n",
        "import numpy as np\n",
        "import keras\n",
        "\n",
        "import matplotlib.pyplot as plt\n",
        "\n",
        "from IPython.display import display\n",
        "from IPython.display import Markdown\n",
        "\n",
        "from sklearn import metrics\n",
        "from sklearn.manifold import TSNE\n",
        "from sklearn.decomposition import PCA\n",
        "\n",
        "from keras import datasets\n",
        "from keras import layers\n",
        "from keras import optimizers\n",
        "from keras import models\n",
        "from keras.utils import to_categorical\n",
        "from keras.models import Sequential\n",
        "from keras.layers import Conv2D\n",
        "from keras.layers import MaxPooling2D\n",
        "from keras.utils import np_utils\n",
        "from keras.preprocessing.image import ImageDataGenerator\n",
        "from keras.layers import Dense, Activation, Flatten, Dropout, BatchNormalization\n",
        "from keras.datasets import cifar10\n",
        "from keras import regularizers\n",
        "from keras.callbacks import LearningRateScheduler\n",
        "\n",
        "import tensorflow as tf\n",
        "tf.logging.set_verbosity(tf.logging.ERROR)\n",
        "\n",
        "def printmd(s):\n",
        "    display(Markdown(s))"
      ],
      "execution_count": 0,
      "outputs": []
    },
    {
      "cell_type": "code",
      "metadata": {
        "colab_type": "code",
        "id": "zepisD1w6LMJ",
        "outputId": "6863c1a1-f0b6-40ac-fd15-99ee762bde98",
        "colab": {
          "base_uri": "https://localhost:8080/",
          "height": 50
        }
      },
      "source": [
        "from keras.datasets import cifar10\n",
        "(x_train, y_train), (x_test, y_test) = cifar10.load_data()\n",
        "\n",
        "print('Train: X=%s, y=%s' % (x_train.shape, y_train.shape))\n",
        "print('Test: X=%s, y=%s' % (x_test.shape, y_test.shape))"
      ],
      "execution_count": 0,
      "outputs": [
        {
          "output_type": "stream",
          "text": [
            "Train: X=(50000, 32, 32, 3), y=(50000, 1)\n",
            "Test: X=(10000, 32, 32, 3), y=(10000, 1)\n"
          ],
          "name": "stdout"
        }
      ]
    },
    {
      "cell_type": "code",
      "metadata": {
        "colab_type": "code",
        "id": "_tBaTiTK6LXA",
        "outputId": "be20b599-ebbe-4ec6-894a-0b413a031b36",
        "colab": {
          "base_uri": "https://localhost:8080/",
          "height": 273
        }
      },
      "source": [
        "for i in range(9):\n",
        "\tplt.subplot(330 + 1 + i)\n",
        "\tplt.imshow(x_train[i])\n",
        "plt.show()"
      ],
      "execution_count": 0,
      "outputs": [
        {
          "output_type": "display_data",
          "data": {
            "image/png": "[encoded data removed]",
            "text/plain": [
              "<Figure size 432x288 with 9 Axes>"
            ]
          },
          "metadata": {
            "tags": []
          }
        }
      ]
    },
    {
      "cell_type": "markdown",
      "metadata": {
        "colab_type": "text",
        "id": "st3toP2ZaLcK"
      },
      "source": [
        "\n",
        "#### Dataset B: Classes 0 e 5  | Dataset A: Restante das Classes\n",
        "Separação de dados de A e B, em treino e teste. \n"
      ]
    },
    {
      "cell_type": "code",
      "metadata": {
        "colab_type": "code",
        "id": "ACXKAQBxQRTC",
        "colab": {}
      },
      "source": [
        "#my_list = [x for x in my_list if x.attribute == value]\n",
        "#my_list = filter(lambda x: x.attribute == value, my_list)\n",
        "A, B = [], []\n",
        "\n",
        "#Separando os dados de A e B de treino\n",
        "B0 = list(filter(lambda x:x[1] in (0,5), enumerate(y_train)))\n",
        "B0 = [idx[0] for idx in B0]\n",
        "B0 = np.array(B0)\n",
        "\n",
        "A0 = list(filter(lambda x:x[1] not in (0,5), enumerate(y_train)))\n",
        "A0 = [idx[0] for idx in A0]\n",
        "A0 = np.array(A0)\n",
        "\n",
        "#Separando os dados de A e B de teste\n",
        "B1 = list(filter(lambda x:x[1] in (0,5), enumerate(y_test)))\n",
        "B1 = [idx[0] for idx in B1]\n",
        "B1 = np.array(B1)\n",
        "\n",
        "A1 = list(filter(lambda x:x[1] not in (0,5), enumerate(y_test)))\n",
        "A1 = [idx[0] for idx in A1]\n",
        "A1 = np.array(A1)\n",
        "\n",
        "#===============================================\n",
        "\n",
        "train_b0 = x_train[B0]\n",
        "train_b1 = x_test[B1]\n",
        "train_a0 = x_train[A0]\n",
        "train_a1 = x_test[A1]\n",
        "\n",
        "x_train_b = np.concatenate((train_b0, train_b1))\n",
        "x_train_a = np.concatenate((train_a0, train_a1))\n",
        "\n",
        "\n",
        "y_train_b0 = np.array(list(filter(lambda x:x in (0,5), y_train)))\n",
        "y_train_b1 = np.array(list(filter(lambda x:x in (0,5), y_test)))\n",
        "\n",
        "y_train_a0 = np.array(list(filter(lambda x:x not in (0,5), y_train)))\n",
        "y_train_a1 = np.array(list(filter(lambda x:x not in (0,5), y_test)))"
      ],
      "execution_count": 0,
      "outputs": []
    },
    {
      "cell_type": "code",
      "metadata": {
        "id": "beZUJ7cFdbBY",
        "colab_type": "code",
        "colab": {}
      },
      "source": [
        "#Após transformação das listas em arrays, concatenar os dois arrays\n",
        "y_train_a = np.concatenate((y_train_b0, y_train_b1))\n",
        "y_train_b = np.concatenate((y_train_b0, y_train_b1))"
      ],
      "execution_count": 0,
      "outputs": []
    },
    {
      "cell_type": "markdown",
      "metadata": {
        "colab_type": "text",
        "id": "FQFGds7u6Lcb"
      },
      "source": [
        "### Tratamento dos dados"
      ]
    },
    {
      "cell_type": "code",
      "metadata": {
        "colab_type": "code",
        "id": "yH8AtulfHgAZ",
        "colab": {}
      },
      "source": [
        "#y_train = to_categorical(y_train)\n",
        "#y_test = to_categorical(y_test)\n",
        "\n",
        "# Novo target\n",
        "y_train_a = np.reshape(y_train_a, len(y_train_a))\n",
        "y_train_b = np.reshape(y_train_b, len(y_train_b))\n",
        "\n",
        "\n",
        "# Normalização\n",
        "x_train_a = x_train_a/255\n",
        "x_train_b = x_train_b/255\n",
        "\n",
        "#One-hot encoding dos targets\n",
        "y_train_a = pd.get_dummies(y_train_a).values\n",
        "y_train_b = pd.get_dummies(y_train_b).values\n",
        "\n",
        "\n",
        "# Pega o número de classes\n",
        "n_classes_A = y_train_a.shape[1]\n",
        "n_classes_B = y_train_b.shape[1]"
      ],
      "execution_count": 0,
      "outputs": []
    },
    {
      "cell_type": "code",
      "metadata": {
        "colab_type": "code",
        "id": "ZgdU9wtVhzQA",
        "colab": {}
      },
      "source": [
        "x_train_A  = x_train_a[:int(len (x_train_a)* 0.8)]\n",
        "y_train_A  = y_train_a[:int(len (y_train_a)* 0.8)]\n",
        "\n",
        "x_test_A  = x_train_a[ int(len (x_train_a)* 0.8):]\n",
        "y_test_A  = y_train_a[ int(len (y_train_a)* 0.8):]"
      ],
      "execution_count": 0,
      "outputs": []
    },
    {
      "cell_type": "code",
      "metadata": {
        "colab_type": "code",
        "id": "HQ5Hci539eYO",
        "colab": {}
      },
      "source": [
        "x_train_B  = x_train_b[:int(len(x_train_b)* 0.8)]\n",
        "y_train_B  = y_train_b[:int(len(y_train_b)* 0.8)]\n",
        "\n",
        "x_test_B  = x_train_b[int(len(x_train_b)* 0.8):]\n",
        "y_test_B  = y_train_b[int(len(y_train_b)* 0.8):]"
      ],
      "execution_count": 0,
      "outputs": []
    },
    {
      "cell_type": "markdown",
      "metadata": {
        "colab_type": "text",
        "id": "ooM6gSJN7vhR"
      },
      "source": [
        "### CNNs e modelos por época\n"
      ]
    },
    {
      "cell_type": "code",
      "metadata": {
        "colab_type": "code",
        "id": "3r6SDbyI6LkX",
        "outputId": "71a25748-44ed-40c8-cf1f-c575d5be9719",
        "colab": {
          "base_uri": "https://localhost:8080/",
          "height": 566
        }
      },
      "source": [
        "model = Sequential()\n",
        "layer = Conv2D(64, (3,3), activation='relu', padding='same', kernel_regularizer=regularizers.l2(weight_decay), input_shape=x_train_A.shape[1:], strides=strides, kernel_initializer='he_normal')\n",
        "model.add(layer)\n",
        "\n",
        "model.add(BatchNormalization())\n",
        "\n",
        "model.add(Conv2D(64, (3,3), activation='relu', padding='same', kernel_regularizer=regularizers.l2(weight_decay), strides=strides, kernel_initializer='he_normal'))\n",
        "model.add(BatchNormalization())\n",
        "model.add(MaxPooling2D(pool_size=(2,2)))\n",
        "model.add(Dropout(0.2))\n",
        " \n",
        "model.add(Conv2D(64, (3,3), activation='relu', padding='same', kernel_regularizer=regularizers.l2(weight_decay), strides=strides, kernel_initializer='he_normal'))\n",
        "model.add(BatchNormalization())\n",
        "model.add(MaxPooling2D(pool_size=(2,2)))\n",
        "model.add(Dropout(0.3))\n",
        "\n",
        "model.add(Flatten())\n",
        "model.add(Dense(512, activation='relu'))\n",
        "model.add(Dense(n_classesA, activation='softmax'))\n",
        "\n",
        "model.summary()"
      ],
      "execution_count": 0,
      "outputs": [
        {
          "output_type": "stream",
          "text": [
            "_________________________________________________________________\n",
            "Layer (type)                 Output Shape              Param #   \n",
            "=================================================================\n",
            "conv2d_71 (Conv2D)           (None, 32, 32, 64)        1792      \n",
            "_________________________________________________________________\n",
            "batch_normalization_71 (Batc (None, 32, 32, 64)        256       \n",
            "_________________________________________________________________\n",
            "conv2d_72 (Conv2D)           (None, 32, 32, 64)        36928     \n",
            "_________________________________________________________________\n",
            "batch_normalization_72 (Batc (None, 32, 32, 64)        256       \n",
            "_________________________________________________________________\n",
            "max_pooling2d_45 (MaxPooling (None, 16, 16, 64)        0         \n",
            "_________________________________________________________________\n",
            "dropout_46 (Dropout)         (None, 16, 16, 64)        0         \n",
            "_________________________________________________________________\n",
            "conv2d_73 (Conv2D)           (None, 16, 16, 64)        36928     \n",
            "_________________________________________________________________\n",
            "batch_normalization_73 (Batc (None, 16, 16, 64)        256       \n",
            "_________________________________________________________________\n",
            "max_pooling2d_46 (MaxPooling (None, 8, 8, 64)          0         \n",
            "_________________________________________________________________\n",
            "dropout_47 (Dropout)         (None, 8, 8, 64)          0         \n",
            "_________________________________________________________________\n",
            "flatten_23 (Flatten)         (None, 4096)              0         \n",
            "_________________________________________________________________\n",
            "dense_45 (Dense)             (None, 512)               2097664   \n",
            "_________________________________________________________________\n",
            "dense_46 (Dense)             (None, 8)                 4104      \n",
            "=================================================================\n",
            "Total params: 2,178,184\n",
            "Trainable params: 2,177,800\n",
            "Non-trainable params: 384\n",
            "_________________________________________________________________\n"
          ],
          "name": "stdout"
        }
      ]
    },
    {
      "cell_type": "code",
      "metadata": {
        "id": "NqMj1uYKJg6H",
        "colab_type": "code",
        "colab": {}
      },
      "source": [
        "# Inicializa o otimizados.\n",
        "optimizer = keras.optimizers.rmsprop(lr=0.001,decay=1e-6)\n",
        "\n",
        "# Compila o modelo, escolhendo a funcao de perda e a metrica principal\n",
        "model.compile(optimizer,loss='categorical_crossentropy', metrics=['accuracy'])\n",
        "\n",
        "batch_size = 200\n",
        "# Treina por 20 epocas com mini-batches\n",
        "history = model.fit(x_train_A, y_train_A, batch_size=128, epochs=20, verbose=1, validation_data=(x_test_A, y_test_A))\n",
        "\n",
        "#testing\n",
        "scores = model.evaluate(x_test_B, y_test_B, batch_size=128, verbose=1)\n",
        "print('\\nTest result: %.3f loss: %.3f' % (scores[1]*100,scores[0]))"
      ],
      "execution_count": 0,
      "outputs": []
    },
    {
      "cell_type": "code",
      "metadata": {
        "id": "yEzMJXFN9g8D",
        "colab_type": "code",
        "colab": {}
      },
      "source": [
        "# Gera graficos do resultado do treino\n",
        "mpl.rc(\"font\", **{\"size\": 14})\n",
        "fig, axes = plt.subplots(1, 2, figsize=(17, 7))\n",
        "\n",
        "# Loss\n",
        "axes[0].plot(range(1, len(history.history[\"loss\"])+1), history.history[\"loss\"], \n",
        "        label=\"Train Loss\", color=\"royalblue\", lw=3)\n",
        "axes[0].set_ylabel(\"Loss\")\n",
        "axes[0].set_xlabel(\"Epoch\")\n",
        "axes[0].set_xticks(range(1, len(history.history[\"acc\"])+1))\n",
        "axes[0].legend()\n",
        "\n",
        "# Accuracy\n",
        "axes[1].plot(range(1, len(history.history[\"acc\"])+1), history.history[\"acc\"], \n",
        "        label=\"Train ACC\", color=\"royalblue\", lw=3)\n",
        "axes[1].plot(range(1, len(history.history[\"val_acc\"])+1), history.history[\"val_acc\"], \n",
        "        label=\"Teste ACC\", color=\"forestgreen\", lw=3)\n",
        "axes[1].set_ylabel(\"Accuracy\")\n",
        "axes[1].set_xlabel(\"Epoch\")\n",
        "axes[1].set_xticks(range(1, len(history.history[\"acc\"])+1))\n",
        "axes[1].legend()\n",
        "plt.show()"
      ],
      "execution_count": 0,
      "outputs": []
    },
    {
      "cell_type": "markdown",
      "metadata": {
        "colab_type": "text",
        "id": "MsNDIztdJdKU"
      },
      "source": [
        "### Treino B - sem transfer learning"
      ]
    },
    {
      "cell_type": "code",
      "metadata": {
        "colab_type": "code",
        "id": "KOTxEBrq51dF",
        "colab": {}
      },
      "source": [
        "model = Sequential()\n",
        "layer = Conv2D(64, (3,3), activation='relu', padding='same', kernel_regularizer=regularizers.l2(weight_decay), input_shape=x_train_B.shape[1:], strides=strides, kernel_initializer='he_normal')\n",
        "model.add(layer)\n",
        "\n",
        "model.add(BatchNormalization())\n",
        "\n",
        "model.add(Conv2D(64, (3,3), activation='relu', padding='same', kernel_regularizer=regularizers.l2(weight_decay), strides=strides, kernel_initializer='he_normal'))\n",
        "model.add(BatchNormalization())\n",
        "model.add(MaxPooling2D(pool_size=(2,2)))\n",
        "model.add(Dropout(0.2))\n",
        " \n",
        "model.add(Conv2D(64, (3,3), activation='relu', padding='same', kernel_regularizer=regularizers.l2(weight_decay), strides=strides, kernel_initializer='he_normal'))\n",
        "model.add(BatchNormalization())\n",
        "model.add(MaxPooling2D(pool_size=(2,2)))\n",
        "model.add(Dropout(0.3))\n",
        "\n",
        "model.add(Flatten())\n",
        "model.add(Dense(512, activation='relu'))\n",
        "model.add(Dense(n_classesB, activation='softmax'))\n",
        "\n",
        "model.summary()"
      ],
      "execution_count": 0,
      "outputs": []
    },
    {
      "cell_type": "code",
      "metadata": {
        "id": "Yr-CfdpcS_Ah",
        "colab_type": "code",
        "colab": {}
      },
      "source": [
        "# Inicializa o otimizados.\n",
        "optimizer = keras.optimizers.rmsprop(lr=0.001,decay=1e-6)\n",
        "\n",
        "# Compila o modelo, escolhendo a funcao de perda e a metrica principal\n",
        "model.compile(optimizer,loss='categorical_crossentropy', metrics=['accuracy'])\n",
        "\n",
        "batch_size = 200\n",
        "# Treina por 20 epocas com mini-batches\n",
        "history = model.fit(x_train_B, y_train_B, batch_size=128, epochs=20, verbose=1, validation_data=(x_test_B, y_test_B))\n",
        "\n",
        "#testing\n",
        "scores = model.evaluate(x_test_B, y_test_B, batch_size=128, verbose=1)\n",
        "print('\\nTest result: %.3f loss: %.3f' % (scores[1]*100,scores[0]))"
      ],
      "execution_count": 0,
      "outputs": []
    },
    {
      "cell_type": "code",
      "metadata": {
        "id": "Xzh-GSle87bL",
        "colab_type": "code",
        "colab": {}
      },
      "source": [
        "# Gera graficos do resultado do treino\n",
        "mpl.rc(\"font\", **{\"size\": 14})\n",
        "fig, axes = plt.subplots(1, 2, figsize=(17, 7))\n",
        "\n",
        "# Loss\n",
        "axes[0].plot(range(1, len(history.history[\"loss\"])+1), history.history[\"loss\"], \n",
        "        label=\"Train Loss\", color=\"royalblue\", lw=3)\n",
        "axes[0].set_ylabel(\"Loss\")\n",
        "axes[0].set_xlabel(\"Epoch\")\n",
        "axes[0].set_xticks(range(1, len(history.history[\"acc\"])+1))\n",
        "axes[0].legend()\n",
        "\n",
        "# Accuracy\n",
        "axes[1].plot(range(1, len(history.history[\"acc\"])+1), history.history[\"acc\"], \n",
        "        label=\"Train ACC\", color=\"royalblue\", lw=3)\n",
        "axes[1].plot(range(1, len(history.history[\"val_acc\"])+1), history.history[\"val_acc\"], \n",
        "        label=\"Teste ACC\", color=\"forestgreen\", lw=3)\n",
        "axes[1].set_ylabel(\"Accuracy\")\n",
        "axes[1].set_xlabel(\"Epoch\")\n",
        "axes[1].set_xticks(range(1, len(history.history[\"acc\"])+1))\n",
        "axes[1].legend()\n",
        "plt.show()"
      ],
      "execution_count": 0,
      "outputs": []
    },
    {
      "cell_type": "code",
      "metadata": {
        "id": "bLkqsuO7T28s",
        "colab_type": "code",
        "colab": {}
      },
      "source": [
        "# Matriz de Confusao\n",
        "\n",
        "# Predições\n",
        "y_proba = model.predict(x_test_B)\n",
        "y_pred = np.argmax(y_proba, axis=1)\n",
        "\n",
        "y_true = np.argmax(y_test_B, axis=1)\n",
        "\n",
        "cm = metrics.confusion_matrix(y_true, y_pred)\n",
        "classes = list(range(1, 11))\n",
        "fig, ax = plt.subplots(figsize=(7, 7))\n",
        "im = ax.imshow(cm, interpolation='nearest', cmap=plt.cm.Blues)\n",
        "ax.figure.colorbar(im, ax=ax)\n",
        "ax.set(xticks=np.arange(cm.shape[1]),\n",
        "       yticks=np.arange(cm.shape[0]),\n",
        "       xticklabels=classes, yticklabels=classes,\n",
        "       title=\"Matriz de Confusão\",\n",
        "       ylabel=\"Real\",\n",
        "       xlabel=\"Predito\")\n",
        "\n",
        "plt.setp(ax.get_xticklabels(), rotation=45, ha=\"right\",\n",
        "         rotation_mode=\"anchor\")\n",
        "\n",
        "for i in range(cm.shape[0]):\n",
        "    for j in range(cm.shape[1]):\n",
        "        ax.text(j, i, format(cm[i, j], \"d\"),\n",
        "                ha=\"center\", va=\"center\",\n",
        "                color=\"white\" if cm[i, j] > cm.max()/2. else \"black\")\n",
        "fig.tight_layout()\n",
        "plt.show()"
      ],
      "execution_count": 0,
      "outputs": []
    },
    {
      "cell_type": "code",
      "metadata": {
        "id": "YHR0KUrNUUcu",
        "colab_type": "code",
        "colab": {}
      },
      "source": [
        "# Matriz de Confusao\n",
        "\n",
        "# Predições\n",
        "y_proba = model.predict(x_test_A)\n",
        "y_pred = np.argmax(y_proba, axis=1)\n",
        "\n",
        "y_true = np.argmax(y_test_A, axis=1)\n",
        "\n",
        "cm = metrics.confusion_matrix(y_true, y_pred)\n",
        "classes = list(range(1, 11))\n",
        "fig, ax = plt.subplots(figsize=(7, 7))\n",
        "im = ax.imshow(cm, interpolation='nearest', cmap=plt.cm.Blues)\n",
        "ax.figure.colorbar(im, ax=ax)\n",
        "ax.set(xticks=np.arange(cm.shape[1]),\n",
        "       yticks=np.arange(cm.shape[0]),\n",
        "       xticklabels=classes, yticklabels=classes,\n",
        "       title=\"Matriz de Confusão\",\n",
        "       ylabel=\"Real\",\n",
        "       xlabel=\"Predito\")\n",
        "\n",
        "plt.setp(ax.get_xticklabels(), rotation=45, ha=\"right\",\n",
        "         rotation_mode=\"anchor\")\n",
        "\n",
        "for i in range(cm.shape[0]):\n",
        "    for j in range(cm.shape[1]):\n",
        "        ax.text(j, i, format(cm[i, j], \"d\"),\n",
        "                ha=\"center\", va=\"center\",\n",
        "                color=\"white\" if cm[i, j] > cm.max()/2. else \"black\")\n",
        "fig.tight_layout()\n",
        "plt.show()"
      ],
      "execution_count": 0,
      "outputs": []
    }
  ]
}