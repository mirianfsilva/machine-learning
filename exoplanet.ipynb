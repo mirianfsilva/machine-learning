{
 "cells": [
  {
   "cell_type": "markdown",
   "metadata": {},
   "source": [
    "## Exoplanet Classification\n",
    "### Practical I - Machine Learning\n",
    "\n",
    "#### Mírian Francielle\n",
    "\n",
    "The goal of this practical is to practice the concepts studied during the module and to acquire experience in the use of some of the main classification methods, model evaluation and interpretation and presentation of experimental results. A comparison of multiple classification methods based on different principles in a binary classification problem regarding exoplanet candidates."
   ]
  },
  {
   "cell_type": "markdown",
   "metadata": {},
   "source": [
    "Task: Comparing six classification methods\n",
    "- Naive Bayes\n",
    "- Decision Tree\n",
    "- SVM\n",
    "- k-NN\n",
    "- Random Forest\n",
    "- Gradient Tree Boosting"
   ]
  },
  {
   "cell_type": "code",
   "execution_count": 91,
   "metadata": {},
   "outputs": [],
   "source": [
    "import pandas as pd\n",
    "import numpy as np\n",
    "\n",
    "import matplotlib as mpl\n",
    "import matplotlib.pyplot as plt\n",
    "import matplotlib.style\n",
    "\n",
    "from IPython.display import display\n",
    "from matplotlib import colors\n",
    "\n",
    "from sklearn import svm\n",
    "from sklearn import metrics\n",
    "from sklearn import ensemble\n",
    "from sklearn import neighbors\n",
    "from sklearn import feature_selection\n",
    "from sklearn.model_selection import KFold\n",
    "\n",
    "from sklearn.naive_bayes import GaussianNB\n",
    "from sklearn.tree import DecisionTreeClassifier\n",
    "from sklearn.svm import SVC\n",
    "from sklearn.neighbors import KNeighborsClassifier\n",
    "from sklearn.ensemble import RandomForestClassifier\n",
    "from sklearn.ensemble import GradientBoostingClassifier\n",
    "from sklearn.metrics import accuracy_score, precision_score, recall_score, f1_score, auc, roc_curve\n",
    "from sklearn.model_selection import train_test_split"
   ]
  },
  {
   "cell_type": "code",
   "execution_count": 92,
   "metadata": {},
   "outputs": [],
   "source": [
    "#Input file path \n",
    "INPUT_FILEPATH = \"koi_data.csv\"\n",
    "TARGET = \"koi_disposition\"\n",
    "N_FEATURES = 41\n",
    "\n",
    "#K-Folds cross-validator\n",
    "N_FOLDS = 5\n",
    "\n",
    "# Validation size\n",
    "VAL_SIZE = 0.2"
   ]
  },
  {
   "cell_type": "code",
   "execution_count": 93,
   "metadata": {
    "scrolled": false
   },
   "outputs": [
    {
     "name": "stdout",
     "output_type": "stream",
     "text": [
      "lines: 5202\n",
      "rows: 42\n",
      "Missing data: 0\n",
      "Target: koi_disposition\n",
      "\n",
      " InputFile:\n"
     ]
    },
    {
     "data": {
      "text/html": [
       "<div>\n",
       "<style scoped>\n",
       "    .dataframe tbody tr th:only-of-type {\n",
       "        vertical-align: middle;\n",
       "    }\n",
       "\n",
       "    .dataframe tbody tr th {\n",
       "        vertical-align: top;\n",
       "    }\n",
       "\n",
       "    .dataframe thead th {\n",
       "        text-align: right;\n",
       "    }\n",
       "</style>\n",
       "<table border=\"1\" class=\"dataframe\">\n",
       "  <thead>\n",
       "    <tr style=\"text-align: right;\">\n",
       "      <th></th>\n",
       "      <th>koi_disposition</th>\n",
       "      <th>koi_period</th>\n",
       "      <th>koi_impact</th>\n",
       "      <th>...</th>\n",
       "      <th>koi_dikco_mra</th>\n",
       "      <th>koi_dikco_mdec</th>\n",
       "      <th>koi_dikco_msky</th>\n",
       "    </tr>\n",
       "  </thead>\n",
       "  <tbody>\n",
       "    <tr>\n",
       "      <th>0</th>\n",
       "      <td>CONFIRMED</td>\n",
       "      <td>9.48804</td>\n",
       "      <td>0.146</td>\n",
       "      <td>...</td>\n",
       "      <td>0.080</td>\n",
       "      <td>0.310</td>\n",
       "      <td>0.320</td>\n",
       "    </tr>\n",
       "    <tr>\n",
       "      <th>1</th>\n",
       "      <td>CONFIRMED</td>\n",
       "      <td>54.41838</td>\n",
       "      <td>0.586</td>\n",
       "      <td>...</td>\n",
       "      <td>0.490</td>\n",
       "      <td>0.120</td>\n",
       "      <td>0.500</td>\n",
       "    </tr>\n",
       "    <tr>\n",
       "      <th>2</th>\n",
       "      <td>FALSE POSITIVE</td>\n",
       "      <td>1.73695</td>\n",
       "      <td>1.276</td>\n",
       "      <td>...</td>\n",
       "      <td>-0.257</td>\n",
       "      <td>0.099</td>\n",
       "      <td>0.276</td>\n",
       "    </tr>\n",
       "    <tr>\n",
       "      <th>3</th>\n",
       "      <td>CONFIRMED</td>\n",
       "      <td>2.52559</td>\n",
       "      <td>0.701</td>\n",
       "      <td>...</td>\n",
       "      <td>0.070</td>\n",
       "      <td>0.020</td>\n",
       "      <td>0.070</td>\n",
       "    </tr>\n",
       "    <tr>\n",
       "      <th>4</th>\n",
       "      <td>FALSE POSITIVE</td>\n",
       "      <td>7.36179</td>\n",
       "      <td>1.169</td>\n",
       "      <td>...</td>\n",
       "      <td>-4.537</td>\n",
       "      <td>7.713</td>\n",
       "      <td>8.948</td>\n",
       "    </tr>\n",
       "    <tr>\n",
       "      <th>5</th>\n",
       "      <td>CONFIRMED</td>\n",
       "      <td>16.06865</td>\n",
       "      <td>0.052</td>\n",
       "      <td>...</td>\n",
       "      <td>0.005</td>\n",
       "      <td>0.030</td>\n",
       "      <td>0.031</td>\n",
       "    </tr>\n",
       "    <tr>\n",
       "      <th>6</th>\n",
       "      <td>CONFIRMED</td>\n",
       "      <td>2.47061</td>\n",
       "      <td>0.818</td>\n",
       "      <td>...</td>\n",
       "      <td>0.015</td>\n",
       "      <td>-0.270</td>\n",
       "      <td>0.270</td>\n",
       "    </tr>\n",
       "    <tr>\n",
       "      <th>7</th>\n",
       "      <td>CONFIRMED</td>\n",
       "      <td>3.52250</td>\n",
       "      <td>0.631</td>\n",
       "      <td>...</td>\n",
       "      <td>-0.028</td>\n",
       "      <td>0.176</td>\n",
       "      <td>0.178</td>\n",
       "    </tr>\n",
       "    <tr>\n",
       "      <th>8</th>\n",
       "      <td>CONFIRMED</td>\n",
       "      <td>3.70921</td>\n",
       "      <td>0.051</td>\n",
       "      <td>...</td>\n",
       "      <td>0.160</td>\n",
       "      <td>-0.130</td>\n",
       "      <td>0.210</td>\n",
       "    </tr>\n",
       "    <tr>\n",
       "      <th>9</th>\n",
       "      <td>FALSE POSITIVE</td>\n",
       "      <td>11.52145</td>\n",
       "      <td>2.483</td>\n",
       "      <td>...</td>\n",
       "      <td>0.147</td>\n",
       "      <td>0.037</td>\n",
       "      <td>0.151</td>\n",
       "    </tr>\n",
       "  </tbody>\n",
       "</table>\n",
       "<p>10 rows × 42 columns</p>\n",
       "</div>"
      ],
      "text/plain": [
       "  koi_disposition  koi_period  koi_impact       ...        koi_dikco_mra  \\\n",
       "0       CONFIRMED     9.48804       0.146       ...                0.080   \n",
       "1       CONFIRMED    54.41838       0.586       ...                0.490   \n",
       "2  FALSE POSITIVE     1.73695       1.276       ...               -0.257   \n",
       "3       CONFIRMED     2.52559       0.701       ...                0.070   \n",
       "4  FALSE POSITIVE     7.36179       1.169       ...               -4.537   \n",
       "5       CONFIRMED    16.06865       0.052       ...                0.005   \n",
       "6       CONFIRMED     2.47061       0.818       ...                0.015   \n",
       "7       CONFIRMED     3.52250       0.631       ...               -0.028   \n",
       "8       CONFIRMED     3.70921       0.051       ...                0.160   \n",
       "9  FALSE POSITIVE    11.52145       2.483       ...                0.147   \n",
       "\n",
       "   koi_dikco_mdec  koi_dikco_msky  \n",
       "0           0.310           0.320  \n",
       "1           0.120           0.500  \n",
       "2           0.099           0.276  \n",
       "3           0.020           0.070  \n",
       "4           7.713           8.948  \n",
       "5           0.030           0.031  \n",
       "6          -0.270           0.270  \n",
       "7           0.176           0.178  \n",
       "8          -0.130           0.210  \n",
       "9           0.037           0.151  \n",
       "\n",
       "[10 rows x 42 columns]"
      ]
     },
     "metadata": {},
     "output_type": "display_data"
    }
   ],
   "source": [
    "df = pd.read_csv(INPUT_FILEPATH)\n",
    "df = df.drop([\"kepoi_name\"], axis=1)\n",
    "\n",
    "print(\"lines: {}\".format(df.shape[0]))\n",
    "print(\"rows: {}\".format(df.shape[1]))\n",
    "print(\"Missing data: {}\".format(df.isnull().sum().sum()))\n",
    "\n",
    "# list features\n",
    "features = list(df.columns)\n",
    "features.remove(TARGET)\n",
    "print(\"Target: {}\".format(TARGET))\n",
    "\n",
    "print(\"\\n InputFile:\")\n",
    "with pd.option_context(\"max_columns\", 6):\n",
    "    display(df.head(10))"
   ]
  },
  {
   "cell_type": "code",
   "execution_count": 94,
   "metadata": {
    "scrolled": true
   },
   "outputs": [
    {
     "name": "stdout",
     "output_type": "stream",
     "text": [
      "Features: ['koi_period', 'koi_impact', 'koi_duration', 'koi_depth', 'koi_ror', 'koi_srho', 'koi_prad', 'koi_sma', 'koi_incl', 'koi_teq', 'koi_insol', 'koi_dor', 'koi_max_sngle_ev', 'koi_max_mult_ev', 'koi_model_snr', 'koi_steff', 'koi_slogg', 'koi_smet', 'koi_srad', 'koi_smass', 'koi_kepmag', 'koi_gmag', 'koi_rmag', 'koi_imag', 'koi_zmag', 'koi_jmag', 'koi_hmag', 'koi_kmag', 'koi_fwm_stat_sig', 'koi_fwm_sra', 'koi_fwm_sdec', 'koi_fwm_srao', 'koi_fwm_sdeco', 'koi_fwm_prao', 'koi_fwm_pdeco', 'koi_dicco_mra', 'koi_dicco_mdec', 'koi_dicco_msky', 'koi_dikco_mra', 'koi_dikco_mdec', 'koi_dikco_msky']\n"
     ]
    }
   ],
   "source": [
    "#All features\n",
    "print(\"Features:\", features)"
   ]
  },
  {
   "cell_type": "code",
   "execution_count": 55,
   "metadata": {
    "collapsed": true
   },
   "outputs": [
    {
     "data": {
      "image/png": "[encoded data removed]",
      "text/plain": [
       "<Figure size 936x216 with 1 Axes>"
      ]
     },
     "metadata": {
      "needs_background": "light"
     },
     "output_type": "display_data"
    },
    {
     "data": {
      "image/png": "[encoded data removed]",
      "text/plain": [
       "<Figure size 936x216 with 1 Axes>"
      ]
     },
     "metadata": {
      "needs_background": "light"
     },
     "output_type": "display_data"
    },
    {
     "data": {
      "image/png": "[encoded data removed]",
      "text/plain": [
       "<Figure size 936x216 with 1 Axes>"
      ]
     },
     "metadata": {
      "needs_background": "light"
     },
     "output_type": "display_data"
    },
    {
     "data": {
      "image/png": "[encoded data removed]",
      "text/plain": [
       "<Figure size 936x216 with 1 Axes>"
      ]
     },
     "metadata": {
      "needs_background": "light"
     },
     "output_type": "display_data"
    },
    {
     "data": {
      "image/png": "[encoded data removed]",
      "text/plain": [
       "<Figure size 936x216 with 1 Axes>"
      ]
     },
     "metadata": {
      "needs_background": "light"
     },
     "output_type": "display_data"
    },
    {
     "data": {
      "image/png": "[encoded data removed]",
      "text/plain": [
       "<Figure size 936x216 with 1 Axes>"
      ]
     },
     "metadata": {
      "needs_background": "light"
     },
     "output_type": "display_data"
    },
    {
     "data": {
      "image/png": "[encoded data removed]",
      "text/plain": [
       "<Figure size 936x216 with 1 Axes>"
      ]
     },
     "metadata": {
      "needs_background": "light"
     },
     "output_type": "display_data"
    },
    {
     "data": {
      "image/png": "[encoded data removed]",
      "text/plain": [
       "<Figure size 936x216 with 1 Axes>"
      ]
     },
     "metadata": {
      "needs_background": "light"
     },
     "output_type": "display_data"
    },
    {
     "data": {
      "image/png": "[encoded data removed]",
      "text/plain": [
       "<Figure size 936x216 with 1 Axes>"
      ]
     },
     "metadata": {
      "needs_background": "light"
     },
     "output_type": "display_data"
    },
    {
     "data": {
      "image/png": "[encoded data removed]",
      "text/plain": [
       "<Figure size 936x216 with 1 Axes>"
      ]
     },
     "metadata": {
      "needs_background": "light"
     },
     "output_type": "display_data"
    },
    {
     "data": {
      "image/png": "[encoded data removed]",
      "text/plain": [
       "<Figure size 936x216 with 1 Axes>"
      ]
     },
     "metadata": {
      "needs_background": "light"
     },
     "output_type": "display_data"
    },
    {
     "data": {
      "image/png": "[encoded data removed]",
      "text/plain": [
       "<Figure size 936x216 with 1 Axes>"
      ]
     },
     "metadata": {
      "needs_background": "light"
     },
     "output_type": "display_data"
    },
    {
     "data": {
      "image/png": "[encoded data removed]",
      "text/plain": [
       "<Figure size 936x216 with 1 Axes>"
      ]
     },
     "metadata": {
      "needs_background": "light"
     },
     "output_type": "display_data"
    },
    {
     "data": {
      "image/png": "[encoded data removed]",
      "text/plain": [
       "<Figure size 936x216 with 1 Axes>"
      ]
     },
     "metadata": {
      "needs_background": "light"
     },
     "output_type": "display_data"
    },
    {
     "data": {
      "image/png": "[encoded data removed]",
      "text/plain": [
       "<Figure size 936x216 with 1 Axes>"
      ]
     },
     "metadata": {
      "needs_background": "light"
     },
     "output_type": "display_data"
    },
    {
     "data": {
      "image/png": "[encoded data removed]",
      "text/plain": [
       "<Figure size 936x216 with 1 Axes>"
      ]
     },
     "metadata": {
      "needs_background": "light"
     },
     "output_type": "display_data"
    },
    {
     "data": {
      "image/png": "[encoded data removed]",
      "text/plain": [
       "<Figure size 936x216 with 1 Axes>"
      ]
     },
     "metadata": {
      "needs_background": "light"
     },
     "output_type": "display_data"
    },
    {
     "data": {
      "image/png": "[encoded data removed]",
      "text/plain": [
       "<Figure size 936x216 with 1 Axes>"
      ]
     },
     "metadata": {
      "needs_background": "light"
     },
     "output_type": "display_data"
    },
    {
     "data": {
      "image/png": "[encoded data removed]",
      "text/plain": [
       "<Figure size 936x216 with 1 Axes>"
      ]
     },
     "metadata": {
      "needs_background": "light"
     },
     "output_type": "display_data"
    },
    {
     "data": {
      "image/png": "[encoded data removed]",
      "text/plain": [
       "<Figure size 936x216 with 1 Axes>"
      ]
     },
     "metadata": {
      "needs_background": "light"
     },
     "output_type": "display_data"
    },
    {
     "data": {
      "image/png": "[encoded data removed]",
      "text/plain": [
       "<Figure size 936x216 with 1 Axes>"
      ]
     },
     "metadata": {
      "needs_background": "light"
     },
     "output_type": "display_data"
    },
    {
     "data": {
      "image/png": "[encoded data removed]",
      "text/plain": [
       "<Figure size 936x216 with 1 Axes>"
      ]
     },
     "metadata": {
      "needs_background": "light"
     },
     "output_type": "display_data"
    },
    {
     "data": {
      "image/png": "[encoded data removed]",
      "text/plain": [
       "<Figure size 936x216 with 1 Axes>"
      ]
     },
     "metadata": {
      "needs_background": "light"
     },
     "output_type": "display_data"
    },
    {
     "data": {
      "image/png": "[encoded data removed]",
      "text/plain": [
       "<Figure size 936x216 with 1 Axes>"
      ]
     },
     "metadata": {
      "needs_background": "light"
     },
     "output_type": "display_data"
    },
    {
     "data": {
      "image/png": "[encoded data removed]",
      "text/plain": [
       "<Figure size 936x216 with 1 Axes>"
      ]
     },
     "metadata": {
      "needs_background": "light"
     },
     "output_type": "display_data"
    },
    {
     "data": {
      "image/png": "[encoded data removed]",
      "text/plain": [
       "<Figure size 936x216 with 1 Axes>"
      ]
     },
     "metadata": {
      "needs_background": "light"
     },
     "output_type": "display_data"
    },
    {
     "data": {
      "image/png": "[encoded data removed]",
      "text/plain": [
       "<Figure size 936x216 with 1 Axes>"
      ]
     },
     "metadata": {
      "needs_background": "light"
     },
     "output_type": "display_data"
    },
    {
     "data": {
      "image/png": "[encoded data removed]",
      "text/plain": [
       "<Figure size 936x216 with 1 Axes>"
      ]
     },
     "metadata": {
      "needs_background": "light"
     },
     "output_type": "display_data"
    },
    {
     "data": {
      "image/png": "[encoded data removed]",
      "text/plain": [
       "<Figure size 936x216 with 1 Axes>"
      ]
     },
     "metadata": {
      "needs_background": "light"
     },
     "output_type": "display_data"
    },
    {
     "data": {
      "image/png": "[encoded data removed]",
      "text/plain": [
       "<Figure size 936x216 with 1 Axes>"
      ]
     },
     "metadata": {
      "needs_background": "light"
     },
     "output_type": "display_data"
    },
    {
     "data": {
      "image/png": "[encoded data removed]",
      "text/plain": [
       "<Figure size 936x216 with 1 Axes>"
      ]
     },
     "metadata": {
      "needs_background": "light"
     },
     "output_type": "display_data"
    },
    {
     "data": {
      "image/png": "[encoded data removed]",
      "text/plain": [
       "<Figure size 936x216 with 1 Axes>"
      ]
     },
     "metadata": {
      "needs_background": "light"
     },
     "output_type": "display_data"
    },
    {
     "data": {
      "image/png": "[encoded data removed]",
      "text/plain": [
       "<Figure size 936x216 with 1 Axes>"
      ]
     },
     "metadata": {
      "needs_background": "light"
     },
     "output_type": "display_data"
    },
    {
     "data": {
      "image/png": "[encoded data removed]",
      "text/plain": [
       "<Figure size 936x216 with 1 Axes>"
      ]
     },
     "metadata": {
      "needs_background": "light"
     },
     "output_type": "display_data"
    },
    {
     "data": {
      "image/png": "[encoded data removed]",
      "text/plain": [
       "<Figure size 936x216 with 1 Axes>"
      ]
     },
     "metadata": {
      "needs_background": "light"
     },
     "output_type": "display_data"
    },
    {
     "data": {
      "image/png": "[encoded data removed]",
      "text/plain": [
       "<Figure size 936x216 with 1 Axes>"
      ]
     },
     "metadata": {
      "needs_background": "light"
     },
     "output_type": "display_data"
    },
    {
     "data": {
      "image/png": "[encoded data removed]",
      "text/plain": [
       "<Figure size 936x216 with 1 Axes>"
      ]
     },
     "metadata": {
      "needs_background": "light"
     },
     "output_type": "display_data"
    },
    {
     "data": {
      "image/png": "[encoded data removed]",
      "text/plain": [
       "<Figure size 936x216 with 1 Axes>"
      ]
     },
     "metadata": {
      "needs_background": "light"
     },
     "output_type": "display_data"
    },
    {
     "data": {
      "image/png": "[encoded data removed]",
      "text/plain": [
       "<Figure size 936x216 with 1 Axes>"
      ]
     },
     "metadata": {
      "needs_background": "light"
     },
     "output_type": "display_data"
    },
    {
     "data": {
      "image/png": "[encoded data removed]",
      "text/plain": [
       "<Figure size 936x216 with 1 Axes>"
      ]
     },
     "metadata": {
      "needs_background": "light"
     },
     "output_type": "display_data"
    },
    {
     "data": {
      "image/png": "[encoded data removed]",
      "text/plain": [
       "<Figure size 936x216 with 1 Axes>"
      ]
     },
     "metadata": {
      "needs_background": "light"
     },
     "output_type": "display_data"
    }
   ],
   "source": [
    "# Numeric datas \n",
    "for columns in features:\n",
    "    plt.figure(figsize=(13, 3))\n",
    "    plt.hist(df[columns], bins=20, color = \"skyblue\", lw=0)\n",
    "    plt.title(columns)\n",
    "    plt.xlabel(\"values\")\n",
    "    plt.ylabel(\"measure\")\n",
    "    plt.show()"
   ]
  },
  {
   "cell_type": "code",
   "execution_count": 95,
   "metadata": {
    "scrolled": true
   },
   "outputs": [
    {
     "data": {
      "text/html": [
       "<div>\n",
       "<style scoped>\n",
       "    .dataframe tbody tr th:only-of-type {\n",
       "        vertical-align: middle;\n",
       "    }\n",
       "\n",
       "    .dataframe tbody tr th {\n",
       "        vertical-align: top;\n",
       "    }\n",
       "\n",
       "    .dataframe thead th {\n",
       "        text-align: right;\n",
       "    }\n",
       "</style>\n",
       "<table border=\"1\" class=\"dataframe\">\n",
       "  <thead>\n",
       "    <tr style=\"text-align: right;\">\n",
       "      <th></th>\n",
       "      <th>FALSE POSITIVE</th>\n",
       "      <th>CONFIRMED</th>\n",
       "    </tr>\n",
       "  </thead>\n",
       "  <tbody>\n",
       "    <tr>\n",
       "      <th>koi_disposition (%)</th>\n",
       "      <td>59.55</td>\n",
       "      <td>40.45</td>\n",
       "    </tr>\n",
       "  </tbody>\n",
       "</table>\n",
       "</div>"
      ],
      "text/plain": [
       "                     FALSE POSITIVE  CONFIRMED\n",
       "koi_disposition (%)           59.55      40.45"
      ]
     },
     "metadata": {},
     "output_type": "display_data"
    }
   ],
   "source": [
    "#Target ratio\n",
    "display((df[TARGET].value_counts()/len(df)*100).round(2).to_frame(TARGET +\" (%)\").T)"
   ]
  },
  {
   "cell_type": "markdown",
   "metadata": {},
   "source": [
    "#### Enconding"
   ]
  },
  {
   "cell_type": "code",
   "execution_count": 96,
   "metadata": {},
   "outputs": [
    {
     "name": "stdout",
     "output_type": "stream",
     "text": [
      "Results:\n"
     ]
    },
    {
     "data": {
      "text/html": [
       "<div>\n",
       "<style scoped>\n",
       "    .dataframe tbody tr th:only-of-type {\n",
       "        vertical-align: middle;\n",
       "    }\n",
       "\n",
       "    .dataframe tbody tr th {\n",
       "        vertical-align: top;\n",
       "    }\n",
       "\n",
       "    .dataframe thead th {\n",
       "        text-align: right;\n",
       "    }\n",
       "</style>\n",
       "<table border=\"1\" class=\"dataframe\">\n",
       "  <thead>\n",
       "    <tr style=\"text-align: right;\">\n",
       "      <th></th>\n",
       "      <th>koi_disposition</th>\n",
       "    </tr>\n",
       "  </thead>\n",
       "  <tbody>\n",
       "    <tr>\n",
       "      <th>1444</th>\n",
       "      <td>1</td>\n",
       "    </tr>\n",
       "    <tr>\n",
       "      <th>3493</th>\n",
       "      <td>0</td>\n",
       "    </tr>\n",
       "    <tr>\n",
       "      <th>995</th>\n",
       "      <td>1</td>\n",
       "    </tr>\n",
       "    <tr>\n",
       "      <th>3114</th>\n",
       "      <td>0</td>\n",
       "    </tr>\n",
       "    <tr>\n",
       "      <th>2252</th>\n",
       "      <td>1</td>\n",
       "    </tr>\n",
       "  </tbody>\n",
       "</table>\n",
       "</div>"
      ],
      "text/plain": [
       "      koi_disposition\n",
       "1444                1\n",
       "3493                0\n",
       "995                 1\n",
       "3114                0\n",
       "2252                1"
      ]
     },
     "metadata": {},
     "output_type": "display_data"
    }
   ],
   "source": [
    "df[TARGET] = (df[TARGET] == \"CONFIRMED\").astype(int)\n",
    "print(\"Results:\")\n",
    "display(df[[TARGET]].sample(5))"
   ]
  },
  {
   "cell_type": "code",
   "execution_count": 97,
   "metadata": {},
   "outputs": [
    {
     "data": {
      "text/html": [
       "<div>\n",
       "<style scoped>\n",
       "    .dataframe tbody tr th:only-of-type {\n",
       "        vertical-align: middle;\n",
       "    }\n",
       "\n",
       "    .dataframe tbody tr th {\n",
       "        vertical-align: top;\n",
       "    }\n",
       "\n",
       "    .dataframe thead th {\n",
       "        text-align: right;\n",
       "    }\n",
       "</style>\n",
       "<table border=\"1\" class=\"dataframe\">\n",
       "  <thead>\n",
       "    <tr style=\"text-align: right;\">\n",
       "      <th></th>\n",
       "      <th>0</th>\n",
       "      <th>1</th>\n",
       "    </tr>\n",
       "  </thead>\n",
       "  <tbody>\n",
       "    <tr>\n",
       "      <th>koi_disposition (%)</th>\n",
       "      <td>59.55</td>\n",
       "      <td>40.45</td>\n",
       "    </tr>\n",
       "  </tbody>\n",
       "</table>\n",
       "</div>"
      ],
      "text/plain": [
       "                         0      1\n",
       "koi_disposition (%)  59.55  40.45"
      ]
     },
     "metadata": {},
     "output_type": "display_data"
    },
    {
     "name": "stdout",
     "output_type": "stream",
     "text": [
      "\n",
      " InputFile:\n"
     ]
    },
    {
     "data": {
      "text/html": [
       "<div>\n",
       "<style scoped>\n",
       "    .dataframe tbody tr th:only-of-type {\n",
       "        vertical-align: middle;\n",
       "    }\n",
       "\n",
       "    .dataframe tbody tr th {\n",
       "        vertical-align: top;\n",
       "    }\n",
       "\n",
       "    .dataframe thead th {\n",
       "        text-align: right;\n",
       "    }\n",
       "</style>\n",
       "<table border=\"1\" class=\"dataframe\">\n",
       "  <thead>\n",
       "    <tr style=\"text-align: right;\">\n",
       "      <th></th>\n",
       "      <th>koi_disposition</th>\n",
       "      <th>koi_period</th>\n",
       "      <th>koi_impact</th>\n",
       "      <th>...</th>\n",
       "      <th>koi_dikco_mra</th>\n",
       "      <th>koi_dikco_mdec</th>\n",
       "      <th>koi_dikco_msky</th>\n",
       "    </tr>\n",
       "  </thead>\n",
       "  <tbody>\n",
       "    <tr>\n",
       "      <th>0</th>\n",
       "      <td>1</td>\n",
       "      <td>9.48804</td>\n",
       "      <td>0.146</td>\n",
       "      <td>...</td>\n",
       "      <td>0.080</td>\n",
       "      <td>0.310</td>\n",
       "      <td>0.320</td>\n",
       "    </tr>\n",
       "    <tr>\n",
       "      <th>1</th>\n",
       "      <td>1</td>\n",
       "      <td>54.41838</td>\n",
       "      <td>0.586</td>\n",
       "      <td>...</td>\n",
       "      <td>0.490</td>\n",
       "      <td>0.120</td>\n",
       "      <td>0.500</td>\n",
       "    </tr>\n",
       "    <tr>\n",
       "      <th>2</th>\n",
       "      <td>0</td>\n",
       "      <td>1.73695</td>\n",
       "      <td>1.276</td>\n",
       "      <td>...</td>\n",
       "      <td>-0.257</td>\n",
       "      <td>0.099</td>\n",
       "      <td>0.276</td>\n",
       "    </tr>\n",
       "    <tr>\n",
       "      <th>3</th>\n",
       "      <td>1</td>\n",
       "      <td>2.52559</td>\n",
       "      <td>0.701</td>\n",
       "      <td>...</td>\n",
       "      <td>0.070</td>\n",
       "      <td>0.020</td>\n",
       "      <td>0.070</td>\n",
       "    </tr>\n",
       "    <tr>\n",
       "      <th>4</th>\n",
       "      <td>0</td>\n",
       "      <td>7.36179</td>\n",
       "      <td>1.169</td>\n",
       "      <td>...</td>\n",
       "      <td>-4.537</td>\n",
       "      <td>7.713</td>\n",
       "      <td>8.948</td>\n",
       "    </tr>\n",
       "  </tbody>\n",
       "</table>\n",
       "<p>5 rows × 42 columns</p>\n",
       "</div>"
      ],
      "text/plain": [
       "   koi_disposition  koi_period  koi_impact       ...        koi_dikco_mra  \\\n",
       "0                1     9.48804       0.146       ...                0.080   \n",
       "1                1    54.41838       0.586       ...                0.490   \n",
       "2                0     1.73695       1.276       ...               -0.257   \n",
       "3                1     2.52559       0.701       ...                0.070   \n",
       "4                0     7.36179       1.169       ...               -4.537   \n",
       "\n",
       "   koi_dikco_mdec  koi_dikco_msky  \n",
       "0           0.310           0.320  \n",
       "1           0.120           0.500  \n",
       "2           0.099           0.276  \n",
       "3           0.020           0.070  \n",
       "4           7.713           8.948  \n",
       "\n",
       "[5 rows x 42 columns]"
      ]
     },
     "metadata": {},
     "output_type": "display_data"
    }
   ],
   "source": [
    "# Enconding Target ratio\n",
    "y = df[TARGET]\n",
    "display((y.value_counts()/len(df)*100).round(2).to_frame(TARGET +\" (%)\").T)\n",
    "\n",
    "print(\"\\n InputFile:\")\n",
    "with pd.option_context(\"max_columns\", 6):\n",
    "    display(df.head(5))"
   ]
  },
  {
   "cell_type": "code",
   "execution_count": 98,
   "metadata": {},
   "outputs": [
    {
     "name": "stdout",
     "output_type": "stream",
     "text": [
      "Results:\n"
     ]
    },
    {
     "data": {
      "text/html": [
       "<div>\n",
       "<style scoped>\n",
       "    .dataframe tbody tr th:only-of-type {\n",
       "        vertical-align: middle;\n",
       "    }\n",
       "\n",
       "    .dataframe tbody tr th {\n",
       "        vertical-align: top;\n",
       "    }\n",
       "\n",
       "    .dataframe thead th {\n",
       "        text-align: right;\n",
       "    }\n",
       "</style>\n",
       "<table border=\"1\" class=\"dataframe\">\n",
       "  <thead>\n",
       "    <tr style=\"text-align: right;\">\n",
       "      <th></th>\n",
       "      <th>Mean</th>\n",
       "      <th>Standard deviation</th>\n",
       "    </tr>\n",
       "  </thead>\n",
       "  <tbody>\n",
       "    <tr>\n",
       "      <th>koi_period</th>\n",
       "      <td>-0.0</td>\n",
       "      <td>1.0</td>\n",
       "    </tr>\n",
       "    <tr>\n",
       "      <th>koi_impact</th>\n",
       "      <td>-0.0</td>\n",
       "      <td>1.0</td>\n",
       "    </tr>\n",
       "    <tr>\n",
       "      <th>koi_duration</th>\n",
       "      <td>0.0</td>\n",
       "      <td>1.0</td>\n",
       "    </tr>\n",
       "    <tr>\n",
       "      <th>koi_depth</th>\n",
       "      <td>-0.0</td>\n",
       "      <td>1.0</td>\n",
       "    </tr>\n",
       "    <tr>\n",
       "      <th>koi_ror</th>\n",
       "      <td>-0.0</td>\n",
       "      <td>1.0</td>\n",
       "    </tr>\n",
       "    <tr>\n",
       "      <th>...</th>\n",
       "      <td>...</td>\n",
       "      <td>...</td>\n",
       "    </tr>\n",
       "    <tr>\n",
       "      <th>koi_dicco_mdec</th>\n",
       "      <td>0.0</td>\n",
       "      <td>1.0</td>\n",
       "    </tr>\n",
       "    <tr>\n",
       "      <th>koi_dicco_msky</th>\n",
       "      <td>-0.0</td>\n",
       "      <td>1.0</td>\n",
       "    </tr>\n",
       "    <tr>\n",
       "      <th>koi_dikco_mra</th>\n",
       "      <td>0.0</td>\n",
       "      <td>1.0</td>\n",
       "    </tr>\n",
       "    <tr>\n",
       "      <th>koi_dikco_mdec</th>\n",
       "      <td>0.0</td>\n",
       "      <td>1.0</td>\n",
       "    </tr>\n",
       "    <tr>\n",
       "      <th>koi_dikco_msky</th>\n",
       "      <td>-0.0</td>\n",
       "      <td>1.0</td>\n",
       "    </tr>\n",
       "  </tbody>\n",
       "</table>\n",
       "<p>41 rows × 2 columns</p>\n",
       "</div>"
      ],
      "text/plain": [
       "                Mean  Standard deviation\n",
       "koi_period      -0.0                 1.0\n",
       "koi_impact      -0.0                 1.0\n",
       "koi_duration     0.0                 1.0\n",
       "koi_depth       -0.0                 1.0\n",
       "koi_ror         -0.0                 1.0\n",
       "...              ...                 ...\n",
       "koi_dicco_mdec   0.0                 1.0\n",
       "koi_dicco_msky  -0.0                 1.0\n",
       "koi_dikco_mra    0.0                 1.0\n",
       "koi_dikco_mdec   0.0                 1.0\n",
       "koi_dikco_msky  -0.0                 1.0\n",
       "\n",
       "[41 rows x 2 columns]"
      ]
     },
     "metadata": {},
     "output_type": "display_data"
    },
    {
     "name": "stdout",
     "output_type": "stream",
     "text": [
      "\n",
      " dataFile:\n"
     ]
    },
    {
     "data": {
      "text/html": [
       "<div>\n",
       "<style scoped>\n",
       "    .dataframe tbody tr th:only-of-type {\n",
       "        vertical-align: middle;\n",
       "    }\n",
       "\n",
       "    .dataframe tbody tr th {\n",
       "        vertical-align: top;\n",
       "    }\n",
       "\n",
       "    .dataframe thead th {\n",
       "        text-align: right;\n",
       "    }\n",
       "</style>\n",
       "<table border=\"1\" class=\"dataframe\">\n",
       "  <thead>\n",
       "    <tr style=\"text-align: right;\">\n",
       "      <th></th>\n",
       "      <th>koi_period</th>\n",
       "      <th>koi_impact</th>\n",
       "      <th>koi_duration</th>\n",
       "      <th>...</th>\n",
       "      <th>koi_dikco_mra</th>\n",
       "      <th>koi_dikco_mdec</th>\n",
       "      <th>koi_dikco_msky</th>\n",
       "    </tr>\n",
       "  </thead>\n",
       "  <tbody>\n",
       "    <tr>\n",
       "      <th>0</th>\n",
       "      <td>-0.311523</td>\n",
       "      <td>-0.217299</td>\n",
       "      <td>-0.380535</td>\n",
       "      <td>...</td>\n",
       "      <td>0.048032</td>\n",
       "      <td>0.149462</td>\n",
       "      <td>-0.509178</td>\n",
       "    </tr>\n",
       "    <tr>\n",
       "      <th>1</th>\n",
       "      <td>0.196636</td>\n",
       "      <td>-0.049884</td>\n",
       "      <td>-0.157990</td>\n",
       "      <td>...</td>\n",
       "      <td>0.214354</td>\n",
       "      <td>0.079985</td>\n",
       "      <td>-0.451904</td>\n",
       "    </tr>\n",
       "    <tr>\n",
       "      <th>2</th>\n",
       "      <td>-0.399187</td>\n",
       "      <td>0.212652</td>\n",
       "      <td>-0.459685</td>\n",
       "      <td>...</td>\n",
       "      <td>-0.088677</td>\n",
       "      <td>0.072306</td>\n",
       "      <td>-0.523178</td>\n",
       "    </tr>\n",
       "    <tr>\n",
       "      <th>3</th>\n",
       "      <td>-0.390267</td>\n",
       "      <td>-0.006128</td>\n",
       "      <td>-0.567677</td>\n",
       "      <td>...</td>\n",
       "      <td>0.043975</td>\n",
       "      <td>0.043418</td>\n",
       "      <td>-0.588726</td>\n",
       "    </tr>\n",
       "    <tr>\n",
       "      <th>4</th>\n",
       "      <td>-0.335570</td>\n",
       "      <td>0.171940</td>\n",
       "      <td>-0.084024</td>\n",
       "      <td>...</td>\n",
       "      <td>-1.824919</td>\n",
       "      <td>2.856491</td>\n",
       "      <td>2.236176</td>\n",
       "    </tr>\n",
       "  </tbody>\n",
       "</table>\n",
       "<p>5 rows × 41 columns</p>\n",
       "</div>"
      ],
      "text/plain": [
       "   koi_period  koi_impact  koi_duration       ...        koi_dikco_mra  \\\n",
       "0   -0.311523   -0.217299     -0.380535       ...             0.048032   \n",
       "1    0.196636   -0.049884     -0.157990       ...             0.214354   \n",
       "2   -0.399187    0.212652     -0.459685       ...            -0.088677   \n",
       "3   -0.390267   -0.006128     -0.567677       ...             0.043975   \n",
       "4   -0.335570    0.171940     -0.084024       ...            -1.824919   \n",
       "\n",
       "   koi_dikco_mdec  koi_dikco_msky  \n",
       "0        0.149462       -0.509178  \n",
       "1        0.079985       -0.451904  \n",
       "2        0.072306       -0.523178  \n",
       "3        0.043418       -0.588726  \n",
       "4        2.856491        2.236176  \n",
       "\n",
       "[5 rows x 41 columns]"
      ]
     },
     "metadata": {},
     "output_type": "display_data"
    }
   ],
   "source": [
    "# Recreates the list of features\n",
    "features = list(df.columns)\n",
    "features.remove(TARGET)\n",
    "\n",
    "#Mean and Standard deviation\n",
    "df[features] = df[features] - df[features].mean()\n",
    "df[features] = df[features] / df[features].std()\n",
    "\n",
    "print(\"Results:\")\n",
    "df_mean = df[features].mean().round(2).to_frame(\"Mean\")\n",
    "df_std = df[features].std().round(2).to_frame(\"Standard deviation\")\n",
    "with pd.option_context(\"max_rows\", 10):\n",
    "    display(df_mean.join(df_std))\n",
    "    \n",
    "df = df.drop([\"koi_disposition\"], axis=1)\n",
    "print(\"\\n dataFile:\")\n",
    "with pd.option_context(\"max_columns\", 6):\n",
    "    display(df.head(5))"
   ]
  },
  {
   "cell_type": "markdown",
   "metadata": {},
   "source": [
    "### K-Folds Cross Validation"
   ]
  },
  {
   "cell_type": "markdown",
   "metadata": {},
   "source": [
    "The general procedure is as follows:\n",
    "\n",
    "1. Shuffle the dataset randomly.\n",
    "2. Split the dataset into k groups\n",
    "3. For each unique group:\n",
    "    - Take the group as a hold out or test data set\n",
    "    - Take the remaining groups as a training data set\n",
    "    - Fit a model on the training set and evaluate it on the test set\n",
    "    - Retain the evaluation score and discard the model\n",
    "4. Summarize the skill of the model using the sample of model evaluation scores"
   ]
  },
  {
   "cell_type": "code",
   "execution_count": 102,
   "metadata": {},
   "outputs": [],
   "source": [
    "def crossValidationScores(clf): \n",
    "    kfold = KFold(N_FOLDS, True, 1)\n",
    "    \n",
    "    mean_train_acc, mean_test_acc = 0, 0\n",
    "    mean_train_recall, mean_test_recall = 0, 0\n",
    "    mean_train_f1, mean_test_f1 = 0, 0\n",
    "    mean_train_prec, mean_test_prec = 0, 0\n",
    "    \n",
    "    #train, test, validation\n",
    "    x_train, y_train = [], []\n",
    "    x_test, y_test = [], []\n",
    "    x_val, y_val = [], []\n",
    "    \n",
    "    x_predict, y_predict, test_predict_prob = [], [], [] #prediction\n",
    "    train_acc, test_acc, val_acc = [], [], [] #accuracy\n",
    "    train_recall, test_recall, val_recall = [], [], [] #recall\n",
    "    train_f1, test_f1, val_f1 = [], [], [] #f1\n",
    "    train_prec, test_prec, val_prec = [], [], [] #precision\n",
    "    \n",
    "    # enumerate splits\n",
    "    for train_index, test_index in kfold.split(df):\n",
    "        x_train, x_test = df.iloc[train_index], df.iloc[test_index]\n",
    "        y_train, y_test = y[train_index], y[test_index]\n",
    "        \n",
    "        #classifier - fit train\n",
    "        clf = clf.fit(x_train, y_train)\n",
    "        \n",
    "        #prediction\n",
    "        x_predict, y_predict = clf.predict(x_train), clf.predict(x_test) \n",
    "        test_predict_prob = clf.predict_proba(x_test)\n",
    "        \n",
    "        train_acc.append(accuracy_score(y_train, x_predict))\n",
    "        test_acc.append(accuracy_score(y_test, y_predict))\n",
    "        \n",
    "        train_recall.append(recall_score(y_train, x_predict))\n",
    "        test_recall.append(recall_score(y_test, y_predict))\n",
    "        \n",
    "        train_f1.append(f1_score(y_train, x_predict))\n",
    "        test_f1.append(f1_score(y_test, y_predict))\n",
    "        \n",
    "        train_prec.append(precision_score(y_train, x_predict))\n",
    "        test_prec.append(precision_score(y_test, y_predict))\n",
    "        \n",
    "        mean_train_acc, mean_test_acc = np.mean(train_acc), np.mean(test_acc)\n",
    "        mean_train_recall, mean_test_recall = np.mean(train_recall), np.mean(test_recall)\n",
    "        mean_train_f1, mean_test_f1 = np.mean(train_f1), np.mean(test_f1)\n",
    "        mean_train_prec, mean_test_prec = np.mean(train_prec), np.mean(test_prec)\n",
    "        \n",
    "    print(\"Training:\")\n",
    "    print(\"\\t Accuracy: {:.3}\".format(mean_train_acc))\n",
    "    print(\"\\t Recall: {:.3}\".format(mean_train_recall))\n",
    "    print(\"\\t F1: {:.3}\".format(mean_train_f1))\n",
    "    print(\"\\t Precision: {:.3}\".format(mean_train_prec))\n",
    "    \n",
    "    print(\"Test:\")\n",
    "    print(\"\\t Accuracy: {:.3}\".format(mean_test_acc))\n",
    "    print(\"\\t Recall: {:.3}\".format(mean_test_recall))\n",
    "    print(\"\\t F1: {:.3}\".format(mean_test_f1))\n",
    "    print(\"\\t Precision: {:.3}\".format(mean_test_prec))"
   ]
  },
  {
   "cell_type": "markdown",
   "metadata": {},
   "source": [
    "TPR (True Positive Rate) / Recall /Sensitivity"
   ]
  },
  {
   "cell_type": "markdown",
   "metadata": {},
   "source": [
    "### Naive Bayes"
   ]
  },
  {
   "cell_type": "code",
   "execution_count": 105,
   "metadata": {},
   "outputs": [
    {
     "name": "stdout",
     "output_type": "stream",
     "text": [
      "Training:\n",
      "\t Accuracy: 0.917\n",
      "\t Recall: 0.973\n",
      "\t F1: 0.905\n",
      "\t Precision: 0.845\n",
      "Test:\n",
      "\t Accuracy: 0.918\n",
      "\t Recall: 0.973\n",
      "\t F1: 0.905\n",
      "\t Precision: 0.846\n"
     ]
    }
   ],
   "source": [
    "#baseline \n",
    "gnb = GaussianNB()\n",
    "crossValidationScores(gnb)"
   ]
  },
  {
   "cell_type": "markdown",
   "metadata": {},
   "source": [
    "### Decision Tree"
   ]
  },
  {
   "cell_type": "code",
   "execution_count": 106,
   "metadata": {},
   "outputs": [
    {
     "name": "stdout",
     "output_type": "stream",
     "text": [
      "Training:\n",
      "\t Accuracy: 1.0\n",
      "\t Recall: 1.0\n",
      "\t F1: 1.0\n",
      "\t Precision: 1.0\n",
      "Test:\n",
      "\t Accuracy: 0.947\n",
      "\t Recall: 0.94\n",
      "\t F1: 0.934\n",
      "\t Precision: 0.928\n"
     ]
    }
   ],
   "source": [
    "dtc = DecisionTreeClassifier()\n",
    "crossValidationScores(dtc)"
   ]
  },
  {
   "cell_type": "code",
   "execution_count": null,
   "metadata": {},
   "outputs": [],
   "source": []
  },
  {
   "cell_type": "markdown",
   "metadata": {},
   "source": [
    "### Support Vector Machines"
   ]
  },
  {
   "cell_type": "code",
   "execution_count": 110,
   "metadata": {},
   "outputs": [
    {
     "name": "stdout",
     "output_type": "stream",
     "text": [
      "linear\n",
      "Training:\n",
      "\t Accuracy: 0.955\n",
      "\t Recall: 0.964\n",
      "\t F1: 0.946\n",
      "\t Precision: 0.928\n",
      "Test:\n",
      "\t Accuracy: 0.952\n",
      "\t Recall: 0.96\n",
      "\t F1: 0.942\n",
      "\t Precision: 0.924\n",
      "sigmoid\n",
      "Training:\n",
      "\t Accuracy: 0.834\n",
      "\t Recall: 0.803\n",
      "\t F1: 0.797\n",
      "\t Precision: 0.79\n",
      "Test:\n",
      "\t Accuracy: 0.834\n",
      "\t Recall: 0.8\n",
      "\t F1: 0.796\n",
      "\t Precision: 0.793\n",
      "poly\n",
      "Training:\n",
      "\t Accuracy: 0.891\n",
      "\t Recall: 0.983\n",
      "\t F1: 0.879\n",
      "\t Precision: 0.795\n",
      "Test:\n",
      "\t Accuracy: 0.882\n",
      "\t Recall: 0.979\n",
      "\t F1: 0.87\n",
      "\t Precision: 0.783\n",
      "rbf\n",
      "Training:\n",
      "\t Accuracy: 0.942\n",
      "\t Recall: 0.961\n",
      "\t F1: 0.931\n",
      "\t Precision: 0.902\n",
      "Test:\n",
      "\t Accuracy: 0.937\n",
      "\t Recall: 0.958\n",
      "\t F1: 0.924\n",
      "\t Precision: 0.893\n"
     ]
    }
   ],
   "source": [
    "kernels = ['linear','sigmoid','poly','rbf']\n",
    "#svc = SVC(probability=True)\n",
    "\n",
    "for krn in kernels:\n",
    "    print (krn)\n",
    "    svc = SVC(kernel = krn, gamma = 'auto', probability=True)\n",
    "    crossValidationScores(svc)"
   ]
  },
  {
   "cell_type": "code",
   "execution_count": null,
   "metadata": {},
   "outputs": [],
   "source": []
  },
  {
   "cell_type": "markdown",
   "metadata": {},
   "source": [
    "### k-Nearest Neighbors"
   ]
  },
  {
   "cell_type": "code",
   "execution_count": 111,
   "metadata": {},
   "outputs": [
    {
     "name": "stdout",
     "output_type": "stream",
     "text": [
      "Training:\n",
      "\t Accuracy: 0.935\n",
      "\t Recall: 0.976\n",
      "\t F1: 0.924\n",
      "\t Precision: 0.877\n",
      "Test:\n",
      "\t Accuracy: 0.894\n",
      "\t Recall: 0.96\n",
      "\t F1: 0.879\n",
      "\t Precision: 0.812\n",
      "Training:\n",
      "\t Accuracy: 0.921\n",
      "\t Recall: 0.975\n",
      "\t F1: 0.908\n",
      "\t Precision: 0.85\n",
      "Test:\n",
      "\t Accuracy: 0.894\n",
      "\t Recall: 0.964\n",
      "\t F1: 0.88\n",
      "\t Precision: 0.809\n",
      "Training:\n",
      "\t Accuracy: 0.912\n",
      "\t Recall: 0.975\n",
      "\t F1: 0.899\n",
      "\t Precision: 0.834\n",
      "Test:\n",
      "\t Accuracy: 0.893\n",
      "\t Recall: 0.971\n",
      "\t F1: 0.88\n",
      "\t Precision: 0.804\n",
      "Training:\n",
      "\t Accuracy: 0.905\n",
      "\t Recall: 0.978\n",
      "\t F1: 0.893\n",
      "\t Precision: 0.822\n",
      "Test:\n",
      "\t Accuracy: 0.888\n",
      "\t Recall: 0.972\n",
      "\t F1: 0.875\n",
      "\t Precision: 0.795\n",
      "Training:\n",
      "\t Accuracy: 0.899\n",
      "\t Recall: 0.978\n",
      "\t F1: 0.887\n",
      "\t Precision: 0.811\n",
      "Test:\n",
      "\t Accuracy: 0.886\n",
      "\t Recall: 0.974\n",
      "\t F1: 0.874\n",
      "\t Precision: 0.792\n",
      "Training:\n",
      "\t Accuracy: 0.894\n",
      "\t Recall: 0.977\n",
      "\t F1: 0.882\n",
      "\t Precision: 0.804\n",
      "Test:\n",
      "\t Accuracy: 0.883\n",
      "\t Recall: 0.975\n",
      "\t F1: 0.87\n",
      "\t Precision: 0.786\n",
      "Training:\n",
      "\t Accuracy: 0.89\n",
      "\t Recall: 0.978\n",
      "\t F1: 0.878\n",
      "\t Precision: 0.797\n",
      "Test:\n",
      "\t Accuracy: 0.881\n",
      "\t Recall: 0.973\n",
      "\t F1: 0.869\n",
      "\t Precision: 0.784\n",
      "Training:\n",
      "\t Accuracy: 0.888\n",
      "\t Recall: 0.978\n",
      "\t F1: 0.876\n",
      "\t Precision: 0.793\n",
      "Test:\n",
      "\t Accuracy: 0.88\n",
      "\t Recall: 0.975\n",
      "\t F1: 0.868\n",
      "\t Precision: 0.782\n"
     ]
    }
   ],
   "source": [
    "neighbors = [i for i in range(3, 17+1, 2)]\n",
    "for n in neighbors:\n",
    "    knn = KNeighborsClassifier(n_neighbors=n)\n",
    "    crossValidationScores(knn)"
   ]
  },
  {
   "cell_type": "code",
   "execution_count": null,
   "metadata": {},
   "outputs": [],
   "source": []
  },
  {
   "cell_type": "markdown",
   "metadata": {},
   "source": [
    "### Random Forest"
   ]
  },
  {
   "cell_type": "code",
   "execution_count": 115,
   "metadata": {
    "collapsed": true
   },
   "outputs": [
    {
     "name": "stdout",
     "output_type": "stream",
     "text": [
      "Training:\n",
      "\t Accuracy: 0.975\n",
      "\t Recall: 0.972\n",
      "\t F1: 0.969\n",
      "\t Precision: 0.966\n",
      "Test:\n",
      "\t Accuracy: 0.934\n",
      "\t Recall: 0.917\n",
      "\t F1: 0.918\n",
      "\t Precision: 0.92\n",
      "Training:\n",
      "\t Accuracy: 0.991\n",
      "\t Recall: 0.987\n",
      "\t F1: 0.989\n",
      "\t Precision: 0.991\n",
      "Test:\n",
      "\t Accuracy: 0.953\n",
      "\t Recall: 0.94\n",
      "\t F1: 0.942\n",
      "\t Precision: 0.943\n",
      "Training:\n",
      "\t Accuracy: 0.994\n",
      "\t Recall: 0.992\n",
      "\t F1: 0.993\n",
      "\t Precision: 0.994\n",
      "Test:\n",
      "\t Accuracy: 0.959\n",
      "\t Recall: 0.945\n",
      "\t F1: 0.949\n",
      "\t Precision: 0.953\n",
      "Training:\n",
      "\t Accuracy: 0.997\n",
      "\t Recall: 0.997\n",
      "\t F1: 0.996\n",
      "\t Precision: 0.996\n",
      "Test:\n",
      "\t Accuracy: 0.962\n",
      "\t Recall: 0.95\n",
      "\t F1: 0.952\n",
      "\t Precision: 0.955\n",
      "Training:\n",
      "\t Accuracy: 0.998\n",
      "\t Recall: 0.997\n",
      "\t F1: 0.998\n",
      "\t Precision: 0.998\n",
      "Test:\n",
      "\t Accuracy: 0.964\n",
      "\t Recall: 0.952\n",
      "\t F1: 0.955\n",
      "\t Precision: 0.959\n",
      "Training:\n",
      "\t Accuracy: 0.998\n",
      "\t Recall: 0.998\n",
      "\t F1: 0.998\n",
      "\t Precision: 0.998\n",
      "Test:\n",
      "\t Accuracy: 0.964\n",
      "\t Recall: 0.948\n",
      "\t F1: 0.955\n",
      "\t Precision: 0.962\n",
      "Training:\n",
      "\t Accuracy: 0.998\n",
      "\t Recall: 0.998\n",
      "\t F1: 0.998\n",
      "\t Precision: 0.997\n",
      "Test:\n",
      "\t Accuracy: 0.964\n",
      "\t Recall: 0.951\n",
      "\t F1: 0.955\n",
      "\t Precision: 0.959\n",
      "Training:\n",
      "\t Accuracy: 0.999\n",
      "\t Recall: 0.999\n",
      "\t F1: 0.999\n",
      "\t Precision: 0.999\n",
      "Test:\n",
      "\t Accuracy: 0.966\n",
      "\t Recall: 0.953\n",
      "\t F1: 0.958\n",
      "\t Precision: 0.962\n",
      "Training:\n",
      "\t Accuracy: 0.999\n",
      "\t Recall: 0.999\n",
      "\t F1: 0.999\n",
      "\t Precision: 0.999\n",
      "Test:\n",
      "\t Accuracy: 0.968\n",
      "\t Recall: 0.96\n",
      "\t F1: 0.96\n",
      "\t Precision: 0.961\n",
      "Training:\n",
      "\t Accuracy: 0.999\n",
      "\t Recall: 0.999\n",
      "\t F1: 0.999\n",
      "\t Precision: 0.999\n",
      "Test:\n",
      "\t Accuracy: 0.967\n",
      "\t Recall: 0.955\n",
      "\t F1: 0.958\n",
      "\t Precision: 0.962\n",
      "Training:\n",
      "\t Accuracy: 0.999\n",
      "\t Recall: 0.999\n",
      "\t F1: 0.999\n",
      "\t Precision: 0.999\n",
      "Test:\n",
      "\t Accuracy: 0.967\n",
      "\t Recall: 0.956\n",
      "\t F1: 0.959\n",
      "\t Precision: 0.961\n",
      "Training:\n",
      "\t Accuracy: 1.0\n",
      "\t Recall: 1.0\n",
      "\t F1: 0.999\n",
      "\t Precision: 0.999\n",
      "Test:\n",
      "\t Accuracy: 0.968\n",
      "\t Recall: 0.958\n",
      "\t F1: 0.96\n",
      "\t Precision: 0.962\n",
      "Training:\n",
      "\t Accuracy: 1.0\n",
      "\t Recall: 1.0\n",
      "\t F1: 1.0\n",
      "\t Precision: 0.999\n",
      "Test:\n",
      "\t Accuracy: 0.967\n",
      "\t Recall: 0.954\n",
      "\t F1: 0.959\n",
      "\t Precision: 0.964\n",
      "Training:\n",
      "\t Accuracy: 0.999\n",
      "\t Recall: 0.999\n",
      "\t F1: 0.999\n",
      "\t Precision: 0.999\n",
      "Test:\n",
      "\t Accuracy: 0.971\n",
      "\t Recall: 0.963\n",
      "\t F1: 0.965\n",
      "\t Precision: 0.966\n",
      "Training:\n",
      "\t Accuracy: 1.0\n",
      "\t Recall: 1.0\n",
      "\t F1: 1.0\n",
      "\t Precision: 1.0\n",
      "Test:\n",
      "\t Accuracy: 0.967\n",
      "\t Recall: 0.959\n",
      "\t F1: 0.959\n",
      "\t Precision: 0.96\n",
      "Training:\n",
      "\t Accuracy: 1.0\n",
      "\t Recall: 1.0\n",
      "\t F1: 1.0\n",
      "\t Precision: 1.0\n",
      "Test:\n",
      "\t Accuracy: 0.969\n",
      "\t Recall: 0.959\n",
      "\t F1: 0.961\n",
      "\t Precision: 0.964\n",
      "Training:\n",
      "\t Accuracy: 1.0\n",
      "\t Recall: 1.0\n",
      "\t F1: 1.0\n",
      "\t Precision: 1.0\n",
      "Test:\n",
      "\t Accuracy: 0.968\n",
      "\t Recall: 0.958\n",
      "\t F1: 0.96\n",
      "\t Precision: 0.962\n",
      "Training:\n",
      "\t Accuracy: 1.0\n",
      "\t Recall: 1.0\n",
      "\t F1: 1.0\n",
      "\t Precision: 1.0\n",
      "Test:\n",
      "\t Accuracy: 0.968\n",
      "\t Recall: 0.959\n",
      "\t F1: 0.96\n",
      "\t Precision: 0.961\n",
      "Training:\n",
      "\t Accuracy: 1.0\n",
      "\t Recall: 1.0\n",
      "\t F1: 1.0\n",
      "\t Precision: 1.0\n",
      "Test:\n",
      "\t Accuracy: 0.969\n",
      "\t Recall: 0.96\n",
      "\t F1: 0.962\n",
      "\t Precision: 0.964\n",
      "Training:\n",
      "\t Accuracy: 1.0\n",
      "\t Recall: 1.0\n",
      "\t F1: 1.0\n",
      "\t Precision: 1.0\n",
      "Test:\n",
      "\t Accuracy: 0.968\n",
      "\t Recall: 0.958\n",
      "\t F1: 0.96\n",
      "\t Precision: 0.962\n",
      "Training:\n",
      "\t Accuracy: 1.0\n",
      "\t Recall: 1.0\n",
      "\t F1: 1.0\n",
      "\t Precision: 1.0\n",
      "Test:\n",
      "\t Accuracy: 0.971\n",
      "\t Recall: 0.964\n",
      "\t F1: 0.964\n",
      "\t Precision: 0.964\n",
      "Training:\n",
      "\t Accuracy: 1.0\n",
      "\t Recall: 1.0\n",
      "\t F1: 1.0\n",
      "\t Precision: 1.0\n",
      "Test:\n",
      "\t Accuracy: 0.968\n",
      "\t Recall: 0.96\n",
      "\t F1: 0.961\n",
      "\t Precision: 0.963\n",
      "Training:\n",
      "\t Accuracy: 1.0\n",
      "\t Recall: 1.0\n",
      "\t F1: 1.0\n",
      "\t Precision: 1.0\n",
      "Test:\n",
      "\t Accuracy: 0.97\n",
      "\t Recall: 0.961\n",
      "\t F1: 0.963\n",
      "\t Precision: 0.964\n",
      "Training:\n",
      "\t Accuracy: 1.0\n",
      "\t Recall: 1.0\n",
      "\t F1: 1.0\n",
      "\t Precision: 1.0\n",
      "Test:\n",
      "\t Accuracy: 0.969\n",
      "\t Recall: 0.958\n",
      "\t F1: 0.962\n",
      "\t Precision: 0.965\n",
      "Training:\n",
      "\t Accuracy: 1.0\n",
      "\t Recall: 1.0\n",
      "\t F1: 1.0\n",
      "\t Precision: 1.0\n",
      "Test:\n",
      "\t Accuracy: 0.968\n",
      "\t Recall: 0.959\n",
      "\t F1: 0.96\n",
      "\t Precision: 0.962\n",
      "Training:\n",
      "\t Accuracy: 1.0\n",
      "\t Recall: 1.0\n",
      "\t F1: 1.0\n",
      "\t Precision: 1.0\n",
      "Test:\n",
      "\t Accuracy: 0.967\n",
      "\t Recall: 0.958\n",
      "\t F1: 0.96\n",
      "\t Precision: 0.961\n",
      "Training:\n",
      "\t Accuracy: 1.0\n",
      "\t Recall: 1.0\n",
      "\t F1: 1.0\n",
      "\t Precision: 1.0\n",
      "Test:\n",
      "\t Accuracy: 0.971\n",
      "\t Recall: 0.962\n",
      "\t F1: 0.964\n",
      "\t Precision: 0.965\n",
      "Training:\n",
      "\t Accuracy: 1.0\n",
      "\t Recall: 1.0\n",
      "\t F1: 1.0\n",
      "\t Precision: 1.0\n",
      "Test:\n",
      "\t Accuracy: 0.968\n",
      "\t Recall: 0.959\n",
      "\t F1: 0.961\n",
      "\t Precision: 0.963\n",
      "Training:\n",
      "\t Accuracy: 1.0\n",
      "\t Recall: 1.0\n",
      "\t F1: 1.0\n",
      "\t Precision: 1.0\n",
      "Test:\n",
      "\t Accuracy: 0.969\n",
      "\t Recall: 0.959\n",
      "\t F1: 0.962\n",
      "\t Precision: 0.965\n",
      "Training:\n",
      "\t Accuracy: 1.0\n",
      "\t Recall: 1.0\n",
      "\t F1: 1.0\n",
      "\t Precision: 1.0\n",
      "Test:\n",
      "\t Accuracy: 0.968\n",
      "\t Recall: 0.958\n",
      "\t F1: 0.961\n",
      "\t Precision: 0.964\n",
      "Training:\n",
      "\t Accuracy: 1.0\n",
      "\t Recall: 1.0\n",
      "\t F1: 1.0\n",
      "\t Precision: 1.0\n",
      "Test:\n",
      "\t Accuracy: 0.969\n",
      "\t Recall: 0.959\n",
      "\t F1: 0.962\n",
      "\t Precision: 0.964\n",
      "Training:\n",
      "\t Accuracy: 1.0\n",
      "\t Recall: 1.0\n",
      "\t F1: 1.0\n",
      "\t Precision: 1.0\n",
      "Test:\n",
      "\t Accuracy: 0.971\n",
      "\t Recall: 0.963\n",
      "\t F1: 0.964\n",
      "\t Precision: 0.964\n",
      "Training:\n",
      "\t Accuracy: 1.0\n",
      "\t Recall: 1.0\n",
      "\t F1: 1.0\n",
      "\t Precision: 1.0\n",
      "Test:\n",
      "\t Accuracy: 0.969\n",
      "\t Recall: 0.957\n",
      "\t F1: 0.962\n",
      "\t Precision: 0.967\n",
      "Training:\n",
      "\t Accuracy: 1.0\n",
      "\t Recall: 1.0\n",
      "\t F1: 1.0\n",
      "\t Precision: 1.0\n",
      "Test:\n",
      "\t Accuracy: 0.97\n",
      "\t Recall: 0.962\n",
      "\t F1: 0.963\n",
      "\t Precision: 0.964\n",
      "Training:\n",
      "\t Accuracy: 1.0\n",
      "\t Recall: 1.0\n",
      "\t F1: 1.0\n",
      "\t Precision: 1.0\n",
      "Test:\n",
      "\t Accuracy: 0.968\n",
      "\t Recall: 0.958\n",
      "\t F1: 0.961\n",
      "\t Precision: 0.963\n",
      "Training:\n",
      "\t Accuracy: 1.0\n",
      "\t Recall: 1.0\n",
      "\t F1: 1.0\n",
      "\t Precision: 1.0\n",
      "Test:\n",
      "\t Accuracy: 0.969\n",
      "\t Recall: 0.962\n",
      "\t F1: 0.962\n",
      "\t Precision: 0.962\n",
      "Training:\n",
      "\t Accuracy: 1.0\n",
      "\t Recall: 1.0\n",
      "\t F1: 1.0\n",
      "\t Precision: 1.0\n",
      "Test:\n",
      "\t Accuracy: 0.97\n",
      "\t Recall: 0.962\n",
      "\t F1: 0.963\n",
      "\t Precision: 0.963\n",
      "Training:\n",
      "\t Accuracy: 1.0\n",
      "\t Recall: 1.0\n",
      "\t F1: 1.0\n",
      "\t Precision: 1.0\n",
      "Test:\n",
      "\t Accuracy: 0.97\n",
      "\t Recall: 0.961\n",
      "\t F1: 0.962\n",
      "\t Precision: 0.964\n",
      "Training:\n",
      "\t Accuracy: 1.0\n",
      "\t Recall: 1.0\n",
      "\t F1: 1.0\n",
      "\t Precision: 1.0\n",
      "Test:\n",
      "\t Accuracy: 0.97\n",
      "\t Recall: 0.962\n",
      "\t F1: 0.963\n",
      "\t Precision: 0.964\n",
      "Training:\n",
      "\t Accuracy: 1.0\n",
      "\t Recall: 1.0\n",
      "\t F1: 1.0\n",
      "\t Precision: 1.0\n",
      "Test:\n",
      "\t Accuracy: 0.97\n",
      "\t Recall: 0.96\n",
      "\t F1: 0.962\n",
      "\t Precision: 0.965\n",
      "Training:\n",
      "\t Accuracy: 1.0\n",
      "\t Recall: 1.0\n",
      "\t F1: 1.0\n",
      "\t Precision: 1.0\n",
      "Test:\n",
      "\t Accuracy: 0.969\n",
      "\t Recall: 0.958\n",
      "\t F1: 0.961\n",
      "\t Precision: 0.964\n",
      "Training:\n",
      "\t Accuracy: 1.0\n",
      "\t Recall: 1.0\n",
      "\t F1: 1.0\n",
      "\t Precision: 1.0\n",
      "Test:\n",
      "\t Accuracy: 0.971\n",
      "\t Recall: 0.963\n",
      "\t F1: 0.964\n",
      "\t Precision: 0.965\n",
      "Training:\n",
      "\t Accuracy: 1.0\n",
      "\t Recall: 1.0\n",
      "\t F1: 1.0\n",
      "\t Precision: 1.0\n",
      "Test:\n",
      "\t Accuracy: 0.969\n",
      "\t Recall: 0.96\n",
      "\t F1: 0.962\n",
      "\t Precision: 0.963\n",
      "Training:\n",
      "\t Accuracy: 1.0\n",
      "\t Recall: 1.0\n",
      "\t F1: 1.0\n",
      "\t Precision: 1.0\n",
      "Test:\n",
      "\t Accuracy: 0.971\n",
      "\t Recall: 0.962\n",
      "\t F1: 0.964\n",
      "\t Precision: 0.966\n",
      "Training:\n",
      "\t Accuracy: 1.0\n",
      "\t Recall: 1.0\n",
      "\t F1: 1.0\n",
      "\t Precision: 1.0\n",
      "Test:\n",
      "\t Accuracy: 0.968\n",
      "\t Recall: 0.957\n",
      "\t F1: 0.96\n",
      "\t Precision: 0.964\n",
      "Training:\n",
      "\t Accuracy: 1.0\n",
      "\t Recall: 1.0\n",
      "\t F1: 1.0\n",
      "\t Precision: 1.0\n",
      "Test:\n",
      "\t Accuracy: 0.967\n",
      "\t Recall: 0.959\n",
      "\t F1: 0.959\n",
      "\t Precision: 0.959\n",
      "Training:\n",
      "\t Accuracy: 1.0\n",
      "\t Recall: 1.0\n",
      "\t F1: 1.0\n",
      "\t Precision: 1.0\n",
      "Test:\n",
      "\t Accuracy: 0.969\n",
      "\t Recall: 0.959\n",
      "\t F1: 0.962\n",
      "\t Precision: 0.964\n",
      "Training:\n",
      "\t Accuracy: 1.0\n",
      "\t Recall: 1.0\n",
      "\t F1: 1.0\n",
      "\t Precision: 1.0\n",
      "Test:\n",
      "\t Accuracy: 0.97\n",
      "\t Recall: 0.961\n",
      "\t F1: 0.963\n",
      "\t Precision: 0.964\n",
      "Training:\n",
      "\t Accuracy: 1.0\n",
      "\t Recall: 1.0\n",
      "\t F1: 1.0\n",
      "\t Precision: 1.0\n",
      "Test:\n",
      "\t Accuracy: 0.969\n",
      "\t Recall: 0.96\n",
      "\t F1: 0.962\n",
      "\t Precision: 0.963\n",
      "Training:\n",
      "\t Accuracy: 1.0\n",
      "\t Recall: 1.0\n",
      "\t F1: 1.0\n",
      "\t Precision: 1.0\n",
      "Test:\n",
      "\t Accuracy: 0.969\n",
      "\t Recall: 0.961\n",
      "\t F1: 0.962\n",
      "\t Precision: 0.962\n"
     ]
    }
   ],
   "source": [
    "rf = [i for i in range(1,100+1, 2)]\n",
    "for n in rf:\n",
    "    rfc = RandomForestClassifier(n_estimators=n, n_jobs=-1)\n",
    "    crossValidationScores(rfc)"
   ]
  },
  {
   "cell_type": "code",
   "execution_count": null,
   "metadata": {},
   "outputs": [],
   "source": []
  },
  {
   "cell_type": "markdown",
   "metadata": {},
   "source": [
    "### Gradient Tree Boosting"
   ]
  },
  {
   "cell_type": "code",
   "execution_count": 117,
   "metadata": {},
   "outputs": [
    {
     "name": "stdout",
     "output_type": "stream",
     "text": [
      "Training:\n",
      "\t Accuracy: 0.958\n",
      "\t Recall: 0.956\n",
      "\t F1: 0.948\n",
      "\t Precision: 0.941\n",
      "Test:\n",
      "\t Accuracy: 0.953\n",
      "\t Recall: 0.945\n",
      "\t F1: 0.942\n",
      "\t Precision: 0.94\n",
      "Training:\n",
      "\t Accuracy: 0.967\n",
      "\t Recall: 0.966\n",
      "\t F1: 0.959\n",
      "\t Precision: 0.953\n",
      "Test:\n",
      "\t Accuracy: 0.96\n",
      "\t Recall: 0.957\n",
      "\t F1: 0.951\n",
      "\t Precision: 0.944\n",
      "Training:\n",
      "\t Accuracy: 0.973\n",
      "\t Recall: 0.974\n",
      "\t F1: 0.966\n",
      "\t Precision: 0.958\n",
      "Test:\n",
      "\t Accuracy: 0.965\n",
      "\t Recall: 0.962\n",
      "\t F1: 0.957\n",
      "\t Precision: 0.952\n",
      "Training:\n",
      "\t Accuracy: 0.976\n",
      "\t Recall: 0.979\n",
      "\t F1: 0.971\n",
      "\t Precision: 0.963\n",
      "Test:\n",
      "\t Accuracy: 0.967\n",
      "\t Recall: 0.965\n",
      "\t F1: 0.959\n",
      "\t Precision: 0.953\n",
      "Training:\n",
      "\t Accuracy: 0.98\n",
      "\t Recall: 0.982\n",
      "\t F1: 0.975\n",
      "\t Precision: 0.969\n",
      "Test:\n",
      "\t Accuracy: 0.969\n",
      "\t Recall: 0.969\n",
      "\t F1: 0.962\n",
      "\t Precision: 0.954\n",
      "Training:\n",
      "\t Accuracy: 0.983\n",
      "\t Recall: 0.985\n",
      "\t F1: 0.979\n",
      "\t Precision: 0.973\n",
      "Test:\n",
      "\t Accuracy: 0.97\n",
      "\t Recall: 0.97\n",
      "\t F1: 0.963\n",
      "\t Precision: 0.955\n",
      "Training:\n",
      "\t Accuracy: 0.985\n",
      "\t Recall: 0.987\n",
      "\t F1: 0.981\n",
      "\t Precision: 0.975\n",
      "Test:\n",
      "\t Accuracy: 0.97\n",
      "\t Recall: 0.971\n",
      "\t F1: 0.964\n",
      "\t Precision: 0.957\n",
      "Training:\n",
      "\t Accuracy: 0.987\n",
      "\t Recall: 0.989\n",
      "\t F1: 0.984\n",
      "\t Precision: 0.979\n",
      "Test:\n",
      "\t Accuracy: 0.971\n",
      "\t Recall: 0.972\n",
      "\t F1: 0.964\n",
      "\t Precision: 0.956\n",
      "Training:\n",
      "\t Accuracy: 0.989\n",
      "\t Recall: 0.99\n",
      "\t F1: 0.986\n",
      "\t Precision: 0.982\n",
      "Test:\n",
      "\t Accuracy: 0.972\n",
      "\t Recall: 0.973\n",
      "\t F1: 0.965\n",
      "\t Precision: 0.958\n",
      "Training:\n",
      "\t Accuracy: 0.991\n",
      "\t Recall: 0.992\n",
      "\t F1: 0.988\n",
      "\t Precision: 0.985\n",
      "Test:\n",
      "\t Accuracy: 0.971\n",
      "\t Recall: 0.972\n",
      "\t F1: 0.964\n",
      "\t Precision: 0.957\n"
     ]
    }
   ],
   "source": [
    "gb = [i for i in range(10, 100+1, 10)]\n",
    "for n_trees in gb:\n",
    "    gbc = GradientBoostingClassifier(n_estimators = n_trees)\n",
    "    crossValidationScores(gbc)"
   ]
  },
  {
   "cell_type": "code",
   "execution_count": null,
   "metadata": {},
   "outputs": [],
   "source": []
  },
  {
   "cell_type": "markdown",
   "metadata": {},
   "source": [
    "### Results"
   ]
  },
  {
   "cell_type": "code",
   "execution_count": null,
   "metadata": {},
   "outputs": [],
   "source": []
  },
  {
   "cell_type": "markdown",
   "metadata": {},
   "source": [
    "### Plots"
   ]
  },
  {
   "cell_type": "code",
   "execution_count": null,
   "metadata": {},
   "outputs": [],
   "source": []
  }
 ],
 "metadata": {
  "kernelspec": {
   "display_name": "Python 3",
   "language": "python",
   "name": "python3"
  },
  "language_info": {
   "codemirror_mode": {
    "name": "ipython",
    "version": 3
   },
   "file_extension": ".py",
   "mimetype": "text/x-python",
   "name": "python",
   "nbconvert_exporter": "python",
   "pygments_lexer": "ipython3",
   "version": "3.7.1"
  }
 },
 "nbformat": 4,
 "nbformat_minor": 2
}
